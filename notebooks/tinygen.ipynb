{
 "cells": [
  {
   "cell_type": "code",
   "execution_count": 2,
   "id": "89d54222-17ee-4ebf-8771-e2ff3f962be6",
   "metadata": {},
   "outputs": [],
   "source": [
    "%load_ext autoreload\n",
    "%autoreload 2"
   ]
  },
  {
   "cell_type": "code",
   "execution_count": 3,
   "id": "be9b0a94-904d-4f05-92b3-a7f487947c86",
   "metadata": {},
   "outputs": [],
   "source": [
    "import tinygen.hello"
   ]
  },
  {
   "cell_type": "code",
   "execution_count": 4,
   "id": "e6e4656e-33c1-47e0-934d-db9d99a0ea77",
   "metadata": {},
   "outputs": [
    {
     "data": {
      "text/plain": [
       "True"
      ]
     },
     "execution_count": 4,
     "metadata": {},
     "output_type": "execute_result"
    }
   ],
   "source": [
    "from dotenv import load_dotenv\n",
    "import os\n",
    "load_dotenv()"
   ]
  },
  {
   "cell_type": "code",
   "execution_count": 5,
   "id": "794a41a7-33d3-41da-8376-0f93417c7f1a",
   "metadata": {},
   "outputs": [],
   "source": [
    "githubUrl = 'https://github.com/leoshimo/cogni'\n",
    "prompt = 'Add \"Hello world\" to the end of readme file'"
   ]
  },
  {
   "cell_type": "markdown",
   "id": "00fb43f2-731a-46c0-b2f4-e6b01432336c",
   "metadata": {},
   "source": [
    "# Github API\n",
    "\n",
    "Need two functionality:\n",
    "- [ ] Project structure given repo\n",
    "- [ ] Contents of files within repo"
   ]
  },
  {
   "cell_type": "code",
   "execution_count": 6,
   "id": "fd3fb494-3bb8-4c51-b7e6-beb44d523874",
   "metadata": {},
   "outputs": [],
   "source": [
    "def norm_repo_spec(url_or_repo_spec):\n",
    "    \"Normalizes repository specified into format user/repo_name\"\n",
    "    res = url_or_repo_spec.removeprefix(\"https://github.com/\")\n",
    "    return res\n",
    "\n",
    "assert norm_repo_spec(githubUrl) == 'leoshimo/cogni'\n",
    "assert norm_repo_spec('leoshimo/cogni') == 'leoshimo/cogni'"
   ]
  },
  {
   "cell_type": "markdown",
   "id": "c220f3d5-041e-4bbf-a22b-6eb5c4ca0547",
   "metadata": {},
   "source": [
    "# Repo API\n",
    "\n",
    "Abstraction for \"working directory\" for given project.\n",
    "\n",
    "todo: traverse git repo directory and build up paths\n",
    "\n",
    "What to keep per item:\n",
    "- path\n",
    "- url (used to fetch content\n",
    "- content (must be base64 decoded)"
   ]
  },
  {
   "cell_type": "code",
   "execution_count": 7,
   "id": "93e95ffa-f6f0-477f-aa54-703c922918ab",
   "metadata": {},
   "outputs": [
    {
     "data": {
      "text/plain": [
       "{'name': 'Cargo.toml',\n",
       " 'path': 'Cargo.toml',\n",
       " 'sha': 'a2ade61733e57d4083f7d19e576eaac0ad4b5c60',\n",
       " 'size': 890,\n",
       " 'url': 'https://api.github.com/repos/leoshimo/cogni/contents/Cargo.toml?ref=main',\n",
       " 'html_url': 'https://github.com/leoshimo/cogni/blob/main/Cargo.toml',\n",
       " 'git_url': 'https://api.github.com/repos/leoshimo/cogni/git/blobs/a2ade61733e57d4083f7d19e576eaac0ad4b5c60',\n",
       " 'download_url': 'https://raw.githubusercontent.com/leoshimo/cogni/main/Cargo.toml',\n",
       " 'type': 'file',\n",
       " 'content': 'W3BhY2thZ2VdCm5hbWUgPSAiY29nbmkiCmF1dGhvcnMgPSBbImxlb3NoaW1v\\nIl0KdmVyc2lvbiA9ICIwLjEuMSIKZWRpdGlvbiA9ICIyMDIxIgpkZXNjcmlw\\ndGlvbiA9ICJVbml4IG5hdGl2ZSBpbnRlcmZhY2UgZm9yIExMTXMiCnJlcG9z\\naXRvcnkgPSAiaHR0cHM6Ly9naXRodWIuY29tL2xlb3NoaW1vL2NvZ25pIgps\\naWNlbnNlID0gIk1JVCBPUiBBcGFjaGUtMi4wIgprZXl3b3JkcyA9IFsidW5p\\neCIsICJjbGkiLCAiY29tbWFuZC1saW5lIiwgImFpIiwgImxsbSJdCgojIFNl\\nZSBtb3JlIGtleXMgYW5kIHRoZWlyIGRlZmluaXRpb25zIGF0IGh0dHBzOi8v\\nZG9jLnJ1c3QtbGFuZy5vcmcvY2FyZ28vcmVmZXJlbmNlL21hbmlmZXN0Lmh0\\nbWwKCltkZXBlbmRlbmNpZXNdCmFueWhvdyA9ICIxLjAuNzEiCmNocm9ubyA9\\nIHsgdmVyc2lvbiA9ICIwLjQuMjYiLCBmZWF0dXJlcyA9IFsic2VyZGUiXSB9\\nCmNsYXAgPSB7IHZlcnNpb24gPSAiNC4zLjUiLCBmZWF0dXJlcyA9IFsiZGVm\\nYXVsdCIsICJjYXJnbyIsICJlbnYiXSB9CmRlcml2ZV9idWlsZGVyID0gIjAu\\nMTIuMCIKZW52X2xvZ2dlciA9ICIwLjEwLjAiCmxvZyA9ICIwLjQuMTkiCnJl\\ncXdlc3QgPSB7IHZlcnNpb24gPSAiMC4xMS4xOCIsIGZlYXR1cmVzID0gWyJq\\nc29uIl0gfQpzZXJkZSA9IHsgdmVyc2lvbiA9ICIxLjAuMTY0IiwgZmVhdHVy\\nZXMgPSBbImRlcml2ZSJdIH0Kc2VyZGVfanNvbiA9ICIxLjAuOTciCnRoaXNl\\ncnJvciA9ICIxLjAuNDAiCnRva2lvID0geyB2ZXJzaW9uID0gIjEuMjguMiIs\\nIGZlYXR1cmVzID0gWyJmdWxsIl0gfQoKW2Rldi1kZXBlbmRlbmNpZXNdCmFz\\nc2VydF9jbWQgPSAiMi4wLjExIgphc3NlcnRfZnMgPSAiMS4wLjEzIgptb2Nr\\naXRvID0gIjEuMS4wIgpwcmVkaWNhdGVzID0gIjMuMC4zIgo=\\n',\n",
       " 'encoding': 'base64',\n",
       " '_links': {'self': 'https://api.github.com/repos/leoshimo/cogni/contents/Cargo.toml?ref=main',\n",
       "  'git': 'https://api.github.com/repos/leoshimo/cogni/git/blobs/a2ade61733e57d4083f7d19e576eaac0ad4b5c60',\n",
       "  'html': 'https://github.com/leoshimo/cogni/blob/main/Cargo.toml'}}"
      ]
     },
     "execution_count": 7,
     "metadata": {},
     "output_type": "execute_result"
    }
   ],
   "source": [
    "import requests\n",
    "\n",
    "# https://docs.github.com/en/rest/search/search?apiVersion=2022-11-28\n",
    "headers = {\n",
    "    'authorization': f\"Bearer {os.environ.get('GITHUB_API_KEY')}\",\n",
    "    'accept': 'application/vnd.github+json'\n",
    "}\n",
    "path = 'Cargo.toml'\n",
    "r = requests.get(f'https://api.github.com/repos/{norm_repo_spec(githubUrl)}/contents/{path}', headers=headers)\n",
    "r.json()"
   ]
  },
  {
   "cell_type": "markdown",
   "id": "4f19f90b-43aa-4b1e-a89e-c3783b2e72da",
   "metadata": {},
   "source": [
    "# Agent "
   ]
  },
  {
   "cell_type": "code",
   "execution_count": null,
   "id": "19b06aa3-4215-4fc8-94a3-6edffde709fc",
   "metadata": {},
   "outputs": [],
   "source": []
  }
 ],
 "metadata": {
  "kernelspec": {
   "display_name": "Python 3 (ipykernel)",
   "language": "python",
   "name": "python3"
  },
  "language_info": {
   "codemirror_mode": {
    "name": "ipython",
    "version": 3
   },
   "file_extension": ".py",
   "mimetype": "text/x-python",
   "name": "python",
   "nbconvert_exporter": "python",
   "pygments_lexer": "ipython3",
   "version": "3.11.3"
  }
 },
 "nbformat": 4,
 "nbformat_minor": 5
}
