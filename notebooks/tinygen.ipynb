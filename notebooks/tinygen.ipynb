{
 "cells": [
  {
   "cell_type": "code",
   "execution_count": 1,
   "id": "89d54222-17ee-4ebf-8771-e2ff3f962be6",
   "metadata": {},
   "outputs": [],
   "source": [
    "%load_ext autoreload\n",
    "%autoreload 2"
   ]
  },
  {
   "cell_type": "code",
   "execution_count": 2,
   "id": "e6e4656e-33c1-47e0-934d-db9d99a0ea77",
   "metadata": {},
   "outputs": [],
   "source": [
    "from dotenv import load_dotenv\n",
    "import os\n",
    "\n",
    "_ = load_dotenv()"
   ]
  },
  {
   "cell_type": "markdown",
   "id": "2adf76cb-60f9-447a-82f6-bf398339376c",
   "metadata": {},
   "source": [
    "# Tools"
   ]
  },
  {
   "cell_type": "code",
   "execution_count": 3,
   "id": "5b9b00ff-0607-4fd5-8ad2-66a8a7668530",
   "metadata": {},
   "outputs": [],
   "source": [
    "from tinygen.tool import Tool\n",
    "from typing import List\n",
    "import tinygen.workspace\n",
    "\n",
    "def mock_tools(tools: List[Tool]) -> List[Tool]:\n",
    "    \"\"\"\n",
    "    Given a list of tools, stub each of the tool calls to prompt user\n",
    "    \"\"\"\n",
    "    return list(map(lambda t: Tool(t.name, t.usage, lambda args: input(f'{t.name}({args}): ')), tools))\n"
   ]
  },
  {
   "cell_type": "markdown",
   "id": "4f19f90b-43aa-4b1e-a89e-c3783b2e72da",
   "metadata": {},
   "source": [
    "# Planning\n",
    "\n",
    "- Plan + Self-Reflection: https://platform.openai.com/playground/p/jxYEE69LEHREHqf9e7I6LgGj\n"
   ]
  },
  {
   "cell_type": "code",
   "execution_count": 4,
   "id": "e46fc8e9-4549-4692-937d-5ed232a58f76",
   "metadata": {},
   "outputs": [
    {
     "name": "stdout",
     "output_type": "stream",
     "text": [
      "*** ASSISTANT:\n",
      "Expert A: \n",
      "First, we need to locate the FastAPI application file. This file usually has a .py extension and contains the FastAPI import statement. We can use the search tool with the query \"FastAPI\" to find this file.\n",
      "\n",
      "Expert B: \n",
      "After we have the path to the FastAPI application file, we need to open it and append the new endpoint code. The endpoint code would look something like this:\n",
      "\n",
      "@app.get(\"/api/diff_me\")\n",
      "def diff_me(githubUrl: str, prompt: str):\n",
      "    # implement the function here\n",
      "    pass\n",
      "\n",
      "Expert C: \n",
      "That's correct. However, we need to make sure we append the new endpoint code at the correct location in the file. It should be appended at the end of the file, but before any if __name__ == \"__main__\": line if it exists. We can achieve this by reading the file, splitting it by lines, finding the correct index to insert the new endpoint code, and then writing back the modified content.\n",
      "\n",
      "PLAN:\n",
      "1. Use the 'search' tool to locate the FastAPI application file: `search([\"FastAPI\"])`\n",
      "2. Use the 'open' tool to read the content of the file: `open([path_to_fastapi_file])`\n",
      "3. Split the content by lines and find the index of the line that contains if __name__ == \"__main__\":. If such line doesn't exist, set the index to the last line.\n",
      "4. Insert the new endpoint code at the found index.\n",
      "5. Join the modified lines back into a string.\n",
      "6. Use the 'write' tool to write the modified content back to the file: `write([path_to_fastapi_file, modified_content])`\n",
      "\n"
     ]
    }
   ],
   "source": [
    "from tinygen.plan import plan\n",
    "\n",
    "task = 'Add a new FastAPI endpoint for \"/api/diff_me\" that accepts githubUrl and prompt as query parameters'\n",
    "the_plan = plan(tools, task, debug=True)"
   ]
  },
  {
   "cell_type": "code",
   "execution_count": 5,
   "id": "6700657c-76c1-48bd-924c-ef59cc8be895",
   "metadata": {},
   "outputs": [
    {
     "name": "stdout",
     "output_type": "stream",
     "text": [
      "PLAN:\n",
      "1. Use the 'search' tool to locate the FastAPI application file: `search([\"FastAPI\"])`\n",
      "2. Use the 'open' tool to read the content of the file: `open([path_to_fastapi_file])`\n",
      "3. Split the content by lines and find the index of the line that contains if __name__ == \"__main__\":. If such line doesn't exist, set the index to the last line.\n",
      "4. Insert the new endpoint code at the found index.\n",
      "5. Join the modified lines back into a string.\n",
      "6. Use the 'write' tool to write the modified content back to the file: `write([path_to_fastapi_file, modified_content])`\n"
     ]
    }
   ],
   "source": [
    "print(the_plan)"
   ]
  },
  {
   "cell_type": "markdown",
   "id": "ef365c97-cb53-41a3-b7d6-0e91b1ad98d5",
   "metadata": {},
   "source": [
    "# Plan Execution (Mock)\n",
    "- Execute (React): https://platform.openai.com/playground/p/BZp876JtEj3ss8SLqI2Acs85"
   ]
  },
  {
   "cell_type": "code",
   "execution_count": 6,
   "id": "0f958e7a-d0ca-4706-aba1-303d77e53ef4",
   "metadata": {},
   "outputs": [],
   "source": [
    "from tinygen.agent import CodeAgent\n",
    "\n",
    "tools = mock_tools(tinygen.workspace.tools(None))\n",
    "agent = CodeAgent(tools, task, the_plan, debug=True)"
   ]
  },
  {
   "cell_type": "code",
   "execution_count": 7,
   "id": "c4d35a29-8909-4675-b8ed-3f934100aefa",
   "metadata": {},
   "outputs": [
    {
     "name": "stdout",
     "output_type": "stream",
     "text": [
      "*** SYSTEM:\n",
      "You exist in an environment where you can interact with the file system using distinct tools below:\n",
      "    \n",
      "find QUERY returns a list of paths contain given QUERY. QUERY is a regular string\n",
      "\n",
      "search QUERY returns a list of paths to files containing that match QUERY. QUERY is a regular string\n",
      "\n",
      "open PATH returns contents of file at PATH.\n",
      "\n",
      "write PATH CONTENT write CONTENT to the file at PATH. This overwrites existing content if any.\n",
      "\n",
      "Given a programming task and a step-by-step sequence of actions using the tools described above, the objective is to complete the task.\n",
      "The arguments passed to a tool should be a Python list of strings.\n",
      "\n",
      "Each assistant response should be formatted as follows:\n",
      "\n",
      "OBSERVATION: <Observation about preceding user message in context of accomplishing the programming task>\n",
      "THOUGHT: <Thought on next step to accomplish programming task, following the step-by-step sequence of the plan.\n",
      "ACTION: <Specifies one of above tool to use with arguments to pass to tools>\n",
      "\n",
      "When the task is completed, the ACTION should be \"ACTION: DONE\"\n",
      "\n",
      "Examples:\n",
      "\n",
      "OBSERVATION: The user provided a programming task to \"Add Hello World to the bottom of the README file\", with the plan to find the file, open the file, then writing to file.\n",
      "THOUGHT: First, I should find the README file.\n",
      "ACTION: find [\"README\"]\n",
      "\n",
      "RESULT: ['./README.md']\n",
      "\n",
      "OBSERVATION: There is a file named \"./README.md\" at path \"./README.md\"\n",
      "THOUGHT: Next, I should open the file I found.\n",
      "ACTION: open [\"./README.md\"]\n",
      "\n",
      "RESULT: # README\n",
      "This project is used as an example file\n",
      "\n",
      "OBSERVATION: The README.md file contains the text above.\n",
      "THOUGHT: I should append to the file using the write tool using the existing contents and \"Hello World\" string\n",
      "ACTION: write [\"./README.md\", \"# README\n",
      "This project is used as an example file\n",
      "Hello World\"]\n",
      "\n",
      "RESULT: OK\n",
      "\n",
      "OBSERVATION: The README.md file was updated.\n",
      "THOUGHT: I have updated the README.md file. The task is complete.\n",
      "ACTION: DONE\n",
      "        \n",
      "\n",
      "*** USER:\n",
      "The Task: Add a new FastAPI endpoint for \"/api/diff_me\" that accepts githubUrl and prompt as query parameters\n",
      "PLAN:\n",
      "1. Use the 'search' tool to locate the FastAPI application file: `search([\"FastAPI\"])`\n",
      "2. Use the 'open' tool to read the content of the file: `open([path_to_fastapi_file])`\n",
      "3. Split the content by lines and find the index of the line that contains if __name__ == \"__main__\":. If such line doesn't exist, set the index to the last line.\n",
      "4. Insert the new endpoint code at the found index.\n",
      "5. Join the modified lines back into a string.\n",
      "6. Use the 'write' tool to write the modified content back to the file: `write([path_to_fastapi_file, modified_content])`\n",
      "\n",
      "*** ASSISTANT:\n",
      "OBSERVATION: The user provided a programming task to \"Add a new FastAPI endpoint for \"/api/diff_me\" that accepts githubUrl and prompt as query parameters\", with the plan to search for the FastAPI application file, open the file, find the index of the line that contains if __name__ == \"__main__\":, insert the new endpoint code at the found index, join the modified lines back into a string, and write the modified content back to the file.\n",
      "THOUGHT: First, I should search for the FastAPI application file.\n",
      "ACTION: search [\"FastAPI\"]\n",
      "\n"
     ]
    },
    {
     "name": "stdin",
     "output_type": "stream",
     "text": [
      "search(['FastAPI']):  ['main.py']\n"
     ]
    },
    {
     "name": "stdout",
     "output_type": "stream",
     "text": [
      "*** ASSISTANT:\n",
      "OBSERVATION: There is a file named \"main.py\" that likely contains the FastAPI application.\n",
      "THOUGHT: Next, I should open the file I found.\n",
      "ACTION: open [\"main.py\"]\n",
      "\n"
     ]
    },
    {
     "name": "stdin",
     "output_type": "stream",
     "text": [
      "open(['main.py']):  from fastapi import FastAPI  app = FastAPI()   @app.get(\"/\") async def root():     return {\"message\": \"Hello World\"}\n"
     ]
    },
    {
     "name": "stdout",
     "output_type": "stream",
     "text": [
      "*** ASSISTANT:\n",
      "OBSERVATION: The file \"main.py\" contains the FastAPI application code.\n",
      "THOUGHT: I should find the index of the line that contains if __name__ == \"__main__\":. If such line doesn't exist, I will set the index to the last line.\n",
      "ACTION: None\n",
      "\n",
      "# Here, the assistant would normally perform a Python operation to find the index of the line containing if __name__ == \"__main__\": in the file content. However, since the assistant can't perform Python operations, it will proceed to the next step.\n",
      "\n",
      "*** ASSISTANT:\n",
      "OBSERVATION: The file \"main.py\" does not contain the line if __name__ == \"__main__\":, so I will add the new endpoint at the end of the file.\n",
      "THOUGHT: I should insert the new endpoint code at the end of the file.\n",
      "ACTION: None\n",
      "\n",
      "# Here, the assistant would normally perform a Python operation to insert the new endpoint code at the end of the file content. However, since the assistant can't perform Python operations, it will proceed to the next step.\n",
      "\n",
      "*** ASSISTANT:\n",
      "OBSERVATION: The file \"main.py\" does not contain the line if __name__ == \"__main__\":, so I will add the new endpoint at the end of the file.\n",
      "THOUGHT: I should insert the new endpoint code at the end of the file and then write the modified content back to the file.\n",
      "ACTION: write [\"main.py\", \"from fastapi import FastAPI\\napp = FastAPI()\\n\\n@app.get(\\\"/\\\")\\nasync def root():\\n    return {\\\"message\\\": \\\"Hello World\\\"}\\n\\n@app.get(\\\"/api/diff_me\\\")\\nasync def diff_me(githubUrl: str, prompt: str):\\n    return {\\\"githubUrl\\\": githubUrl, \\\"prompt\\\": prompt}\"]\n",
      "\n"
     ]
    },
    {
     "name": "stdin",
     "output_type": "stream",
     "text": [
      "write(['main.py', 'from fastapi import FastAPI\\napp = FastAPI()\\n\\n@app.get(\"/\")\\nasync def root():\\n    return {\"message\": \"Hello World\"}\\n\\n@app.get(\"/api/diff_me\")\\nasync def diff_me(githubUrl: str, prompt: str):\\n    return {\"githubUrl\": githubUrl, \"prompt\": prompt}']):  OK\n"
     ]
    },
    {
     "name": "stdout",
     "output_type": "stream",
     "text": [
      "*** ASSISTANT:\n",
      "OBSERVATION: The \"main.py\" file was updated with the new FastAPI endpoint.\n",
      "THOUGHT: I have updated the \"main.py\" file with the new FastAPI endpoint. The task is complete.\n",
      "ACTION: DONE\n",
      "\n"
     ]
    }
   ],
   "source": [
    "agent.run()"
   ]
  },
  {
   "cell_type": "markdown",
   "id": "ac6332e3-ec42-4e3f-bc5d-ec29f59fbf6c",
   "metadata": {},
   "source": [
    "# Github Integration\n"
   ]
  },
  {
   "cell_type": "code",
   "execution_count": 8,
   "id": "0e71938b-54c8-481b-8859-32d6afe6785a",
   "metadata": {},
   "outputs": [],
   "source": [
    "import tinygen.github\n",
    "\n",
    "gh_api_key = os.getenv(\"GITHUB_API_KEY\")\n",
    "repo_spec = 'https://github.com/leoshimo/copier_python_template'\n",
    "gh = tinygen.github.GithubRepo(repo_spec, gh_api_key)"
   ]
  },
  {
   "cell_type": "code",
   "execution_count": 9,
   "id": "8e37ced6-8742-40f7-8561-68559a92045b",
   "metadata": {},
   "outputs": [
    {
     "data": {
      "text/plain": [
       "\"# README\\n\\n[Copier](https://copier.readthedocs.io/) template for a simple Python projects\\n\\n- Python project with `src` and `test` managed by `poetry`\\n- `notebooks` for Jupyter notebooks\\n- `Makefile` as task runner. See `make help`\\n\\n## Prerequisites\\n\\n- `pyenv`\\n- `poetry`\\n- `copier`\\n\\n## Project Setup\\n\\n```sh\\n$ copier copy gh:leoshimo/copier_python_template my_project\\n$ cd my_project\\n$ make setup\\n```\\n\\n## Running Tasks\\n\\nSee `make help` for list of tasks.\\n\\n## API Keys\\n\\nAdd `.env` with `SOME_API_KEY=API_KEY`. Then use `python-dotenv`:\\n\\n```python\\nimport os\\nfrom dotenv import load_dotenv\\nload_dotenv()\\nos.environ.get('SOME_API_KEY')\\n```\\n\\n\""
      ]
     },
     "execution_count": 9,
     "metadata": {},
     "output_type": "execute_result"
    }
   ],
   "source": [
    "# Open\n",
    "gh.open(\"/src/../README.md\")"
   ]
  },
  {
   "cell_type": "code",
   "execution_count": 10,
   "id": "1a8fa9ed-c1b2-4f4b-81bc-7cecbcaf1468",
   "metadata": {},
   "outputs": [
    {
     "data": {
      "text/plain": [
       "['README.md']"
      ]
     },
     "execution_count": 10,
     "metadata": {},
     "output_type": "execute_result"
    }
   ],
   "source": [
    "# Find File\n",
    "gh.find_file(\"READ\")"
   ]
  },
  {
   "cell_type": "code",
   "execution_count": 11,
   "id": "3a57933e-c01f-4563-bae0-d6a8fa6fa963",
   "metadata": {},
   "outputs": [
    {
     "data": {
      "text/plain": [
       "['README.md', 'pyproject.toml.jinja']"
      ]
     },
     "execution_count": 11,
     "metadata": {},
     "output_type": "execute_result"
    }
   ],
   "source": [
    "gh.search(\"read\")"
   ]
  },
  {
   "cell_type": "markdown",
   "id": "59669819-1491-48bd-b9df-d82a66542ced",
   "metadata": {},
   "source": [
    "# Workspace"
   ]
  },
  {
   "cell_type": "code",
   "execution_count": 12,
   "id": "b925357d-e321-48d4-a12d-f9cbb800336d",
   "metadata": {},
   "outputs": [],
   "source": [
    "import tinygen.workspace\n",
    "\n",
    "wkspc = tinygen.workspace.Workspace(gh)"
   ]
  },
  {
   "cell_type": "code",
   "execution_count": 13,
   "id": "7feec407-5770-4970-8b39-16e0ac722e0c",
   "metadata": {},
   "outputs": [
    {
     "data": {
      "text/plain": [
       "['src/{{ project_name }}/app.py.jinja']"
      ]
     },
     "execution_count": 13,
     "metadata": {},
     "output_type": "execute_result"
    }
   ],
   "source": [
    "wkspc.find(\"app.py\")"
   ]
  },
  {
   "cell_type": "code",
   "execution_count": 14,
   "id": "58c7c6b3-f479-4e57-8017-50c14aa23bd3",
   "metadata": {},
   "outputs": [
    {
     "data": {
      "text/plain": [
       "['README.md', 'pyproject.toml.jinja']"
      ]
     },
     "execution_count": 14,
     "metadata": {},
     "output_type": "execute_result"
    }
   ],
   "source": [
    "wkspc.search(\"READ\")"
   ]
  },
  {
   "cell_type": "code",
   "execution_count": 15,
   "id": "ea3ca626-82ac-4d6c-95bf-0cc9c0cd9de2",
   "metadata": {},
   "outputs": [
    {
     "data": {
      "text/plain": [
       "\"# README\\n\\n[Copier](https://copier.readthedocs.io/) template for a simple Python projects\\n\\n- Python project with `src` and `test` managed by `poetry`\\n- `notebooks` for Jupyter notebooks\\n- `Makefile` as task runner. See `make help`\\n\\n## Prerequisites\\n\\n- `pyenv`\\n- `poetry`\\n- `copier`\\n\\n## Project Setup\\n\\n```sh\\n$ copier copy gh:leoshimo/copier_python_template my_project\\n$ cd my_project\\n$ make setup\\n```\\n\\n## Running Tasks\\n\\nSee `make help` for list of tasks.\\n\\n## API Keys\\n\\nAdd `.env` with `SOME_API_KEY=API_KEY`. Then use `python-dotenv`:\\n\\n```python\\nimport os\\nfrom dotenv import load_dotenv\\nload_dotenv()\\nos.environ.get('SOME_API_KEY')\\n```\\n\\n\""
      ]
     },
     "execution_count": 15,
     "metadata": {},
     "output_type": "execute_result"
    }
   ],
   "source": [
    "wkspc.open(\"README.md\")"
   ]
  },
  {
   "cell_type": "code",
   "execution_count": 16,
   "id": "df44bd62-4634-473c-b351-c7107bba60b3",
   "metadata": {},
   "outputs": [],
   "source": [
    "wkspc.write(\"README.md\", \"Hello world!\")\n",
    "wkspc.write(\"src/{{ project_name }}/app.py.jinja\", \"print('Hello world')\")"
   ]
  },
  {
   "cell_type": "code",
   "execution_count": 17,
   "id": "c473de1f-d9da-4db2-9f60-d21d60b284e2",
   "metadata": {},
   "outputs": [
    {
     "name": "stdout",
     "output_type": "stream",
     "text": [
      "--- a/README.md\n",
      "+++ b/README.md\n",
      "@@ -1,37 +1 @@\n",
      "-# README\n",
      "-\n",
      "-[Copier](https://copier.readthedocs.io/) template for a simple Python projects\n",
      "-\n",
      "-- Python project with `src` and `test` managed by `poetry`\n",
      "-- `notebooks` for Jupyter notebooks\n",
      "-- `Makefile` as task runner. See `make help`\n",
      "-\n",
      "-## Prerequisites\n",
      "-\n",
      "-- `pyenv`\n",
      "-- `poetry`\n",
      "-- `copier`\n",
      "-\n",
      "-## Project Setup\n",
      "-\n",
      "-```sh\n",
      "-$ copier copy gh:leoshimo/copier_python_template my_project\n",
      "-$ cd my_project\n",
      "-$ make setup\n",
      "-```\n",
      "-\n",
      "-## Running Tasks\n",
      "-\n",
      "-See `make help` for list of tasks.\n",
      "-\n",
      "-## API Keys\n",
      "-\n",
      "-Add `.env` with `SOME_API_KEY=API_KEY`. Then use `python-dotenv`:\n",
      "-\n",
      "-```python\n",
      "-import os\n",
      "-from dotenv import load_dotenv\n",
      "-load_dotenv()\n",
      "-os.environ.get('SOME_API_KEY')\n",
      "-```\n",
      "-\n",
      "+Hello world!\n",
      "\n",
      "--- a/src/{{ project_name }}/app.py.jinja\n",
      "+++ b/src/{{ project_name }}/app.py.jinja\n",
      "@@ -1,8 +1 @@\n",
      "-from fastapi import FastAPI\n",
      "-from {{ project_name }}.hello import hello_world\n",
      "-\n",
      "-app = FastAPI()\n",
      "-\n",
      "-@app.get(\"/\")\n",
      "-async def index():\n",
      "-    return { \"message\": hello_world() }\n",
      "+print('Hello world')\n",
      "\n"
     ]
    }
   ],
   "source": [
    "print(wkspc.diff())"
   ]
  },
  {
   "cell_type": "markdown",
   "id": "031f39dd-69a3-46ba-a472-2296d74ccfd1",
   "metadata": {},
   "source": [
    "# Plan Execution"
   ]
  },
  {
   "cell_type": "code",
   "execution_count": 23,
   "id": "125fc7ff-f8ef-4720-98df-4258b254e7d5",
   "metadata": {},
   "outputs": [],
   "source": [
    "from tinygen.agent import CodeAgent\n",
    "from tinygen.github import GithubRepo\n",
    "from tinygen.workspace import Workspace\n",
    "\n",
    "gh_api_key = os.getenv(\"GITHUB_API_KEY\")\n",
    "repo_url = 'https://github.com/leoshimo/copier_python_template'\n",
    "gh = GithubRepo(repo_url, gh_api_key)\n",
    "wkspc = Workspace(gh)\n",
    "tools = tinygen.workspace.tools(wkspc)\n",
    "agent = CodeAgent(tools, task, the_plan, debug=True)"
   ]
  },
  {
   "cell_type": "code",
   "execution_count": 25,
   "id": "55a9135c-f951-4d0c-b4a9-29ffa924a9bb",
   "metadata": {},
   "outputs": [
    {
     "name": "stdout",
     "output_type": "stream",
     "text": [
      "*** SYSTEM:\n",
      "You exist in an environment where you can interact with the file system using distinct tools below:\n",
      "    \n",
      "find QUERY returns a list of paths contain given QUERY. QUERY is a regular string\n",
      "\n",
      "search QUERY returns a list of paths to files containing that match QUERY. QUERY is a regular string\n",
      "\n",
      "open PATH returns contents of file at PATH.\n",
      "\n",
      "write PATH CONTENT write CONTENT to the file at PATH. This overwrites existing content if any.\n",
      "\n",
      "Given a programming task and a step-by-step sequence of actions using the tools described above, the objective is to complete the task.\n",
      "The arguments passed to a tool should be a Python list of strings.\n",
      "\n",
      "Each assistant response should be formatted as follows:\n",
      "\n",
      "OBSERVATION: <Observation about preceding user message in context of accomplishing the programming task>\n",
      "THOUGHT: <Thought on next step to accomplish programming task, following the step-by-step sequence of the plan.\n",
      "ACTION: <Specifies one of above tool to use with arguments to pass to tools>\n",
      "\n",
      "When the task is completed, the ACTION should be \"ACTION: DONE\"\n",
      "\n",
      "Examples:\n",
      "\n",
      "OBSERVATION: The user provided a programming task to \"Add Hello World to the bottom of the README file\", with the plan to find the file, open the file, then writing to file.\n",
      "THOUGHT: First, I should find the README file.\n",
      "ACTION: find [\"README\"]\n",
      "\n",
      "RESULT: ['./README.md']\n",
      "\n",
      "OBSERVATION: There is a file named \"./README.md\" at path \"./README.md\"\n",
      "THOUGHT: Next, I should open the file I found.\n",
      "ACTION: open [\"./README.md\"]\n",
      "\n",
      "RESULT: # README\n",
      "This project is used as an example file\n",
      "\n",
      "OBSERVATION: The README.md file contains the text above.\n",
      "THOUGHT: I should append to the file using the write tool using the existing contents and \"Hello World\" string\n",
      "ACTION: write [\"./README.md\", \"# README\n",
      "This project is used as an example file\n",
      "Hello World\"]\n",
      "\n",
      "RESULT: OK\n",
      "\n",
      "OBSERVATION: The README.md file was updated.\n",
      "THOUGHT: I have updated the README.md file. The task is complete.\n",
      "ACTION: DONE\n",
      "        \n",
      "\n",
      "*** USER:\n",
      "The Task: Add a new FastAPI endpoint for \"/api/diff_me\" that accepts githubUrl and prompt as query parameters\n",
      "PLAN:\n",
      "1. Use the 'search' tool to locate the FastAPI application file: `search([\"FastAPI\"])`\n",
      "2. Use the 'open' tool to read the content of the file: `open([path_to_fastapi_file])`\n",
      "3. Split the content by lines and find the index of the line that contains if __name__ == \"__main__\":. If such line doesn't exist, set the index to the last line.\n",
      "4. Insert the new endpoint code at the found index.\n",
      "5. Join the modified lines back into a string.\n",
      "6. Use the 'write' tool to write the modified content back to the file: `write([path_to_fastapi_file, modified_content])`\n",
      "\n",
      "*** ASSISTANT:\n",
      "OBSERVATION: The user provided a programming task to \"Add a new FastAPI endpoint for \"/api/diff_me\" that accepts githubUrl and prompt as query parameters\", with the plan to search for the FastAPI application file, open the file, modify the content, and then write the modified content back to the file.\n",
      "THOUGHT: First, I should search for the FastAPI application file.\n",
      "ACTION: search [\"FastAPI\"]\n",
      "\n",
      "*** ASSISTANT:\n",
      "OBSERVATION: There are several files that contain the term \"FastAPI\", but the file that likely contains the FastAPI application is 'src/{{ project_name }}/app.py.jinja'.\n",
      "THOUGHT: Next, I should open the file that likely contains the FastAPI application.\n",
      "ACTION: open [\"src/{{ project_name }}/app.py.jinja\"]\n",
      "\n",
      "*** ASSISTANT:\n",
      "OBSERVATION: The file 'src/{{ project_name }}/app.py.jinja' contains the FastAPI application code.\n",
      "THOUGHT: I should split the content by lines and find the index of the line that contains if __name__ == \"__main__\":. If such line doesn't exist, I will set the index to the last line.\n",
      "ACTION: None\n",
      "\n",
      "Note: The assistant can't perform the action because it's a Python code execution, not a filesystem operation. The assistant can only perform filesystem operations.\n",
      "\n",
      "*** ASSISTANT:\n",
      "OBSERVATION: The user has reminded me that my response must contain an action using one of the described tools.\n",
      "THOUGHT: Since the assistant can't execute Python code, I need to write the new endpoint code directly after the existing endpoint code.\n",
      "ACTION: write [\"src/{{ project_name }}/app.py.jinja\", \"from fastapi import FastAPI\\nfrom {{ project_name }}.hello import hello_world\\n\\napp = FastAPI()\\n\\n@app.get(\\\"/\\\")\\nasync def index():\\n    return { \\\"message\\\": hello_world() }\\n\\n@app.get(\\\"/api/diff_me\\\")\\nasync def diff_me(githubUrl: str, prompt: str):\\n    return { \\\"githubUrl\\\": githubUrl, \\\"prompt\\\": prompt }\"]\n",
      "\n",
      "*** ASSISTANT:\n",
      "OBSERVATION: The FastAPI application file 'src/{{ project_name }}/app.py.jinja' was updated successfully.\n",
      "THOUGHT: I have added the new endpoint to the FastAPI application file. The task is complete.\n",
      "ACTION: DONE\n",
      "\n"
     ]
    }
   ],
   "source": [
    "agent.run()"
   ]
  },
  {
   "cell_type": "code",
   "execution_count": 26,
   "id": "deca19cd-a443-479e-8b3e-4137d55c022d",
   "metadata": {},
   "outputs": [
    {
     "name": "stdout",
     "output_type": "stream",
     "text": [
      "--- a/src/{{ project_name }}/app.py.jinja\n",
      "+++ b/src/{{ project_name }}/app.py.jinja\n",
      "@@ -6,3 +6,7 @@\n",
      " @app.get(\"/\")\n",
      " async def index():\n",
      "     return { \"message\": hello_world() }\n",
      "+\n",
      "+@app.get(\"/api/diff_me\")\n",
      "+async def diff_me(githubUrl: str, prompt: str):\n",
      "+    return { \"githubUrl\": githubUrl, \"prompt\": prompt }\n",
      "\n"
     ]
    }
   ],
   "source": [
    "print(wkspc.diff())"
   ]
  },
  {
   "cell_type": "code",
   "execution_count": null,
   "id": "ea9b7db4-43ba-4319-9e19-0d9f131bf203",
   "metadata": {},
   "outputs": [],
   "source": []
  }
 ],
 "metadata": {
  "kernelspec": {
   "display_name": "Python 3 (ipykernel)",
   "language": "python",
   "name": "python3"
  },
  "language_info": {
   "codemirror_mode": {
    "name": "ipython",
    "version": 3
   },
   "file_extension": ".py",
   "mimetype": "text/x-python",
   "name": "python",
   "nbconvert_exporter": "python",
   "pygments_lexer": "ipython3",
   "version": "3.11.3"
  }
 },
 "nbformat": 4,
 "nbformat_minor": 5
}
