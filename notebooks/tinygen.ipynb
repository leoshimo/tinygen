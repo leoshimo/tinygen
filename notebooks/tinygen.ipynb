{
 "cells": [
  {
   "cell_type": "code",
   "execution_count": 27,
   "id": "89d54222-17ee-4ebf-8771-e2ff3f962be6",
   "metadata": {},
   "outputs": [
    {
     "name": "stdout",
     "output_type": "stream",
     "text": [
      "The autoreload extension is already loaded. To reload it, use:\n",
      "  %reload_ext autoreload\n"
     ]
    }
   ],
   "source": [
    "%load_ext autoreload\n",
    "%autoreload 2"
   ]
  },
  {
   "cell_type": "code",
   "execution_count": 28,
   "id": "be9b0a94-904d-4f05-92b3-a7f487947c86",
   "metadata": {},
   "outputs": [],
   "source": [
    "import tinygen"
   ]
  },
  {
   "cell_type": "code",
   "execution_count": 139,
   "id": "e6e4656e-33c1-47e0-934d-db9d99a0ea77",
   "metadata": {},
   "outputs": [],
   "source": [
    "from dotenv import load_dotenv\n",
    "import os\n",
    "\n",
    "_ = load_dotenv()"
   ]
  },
  {
   "cell_type": "markdown",
   "id": "2adf76cb-60f9-447a-82f6-bf398339376c",
   "metadata": {},
   "source": [
    "# Mock Tools"
   ]
  },
  {
   "cell_type": "code",
   "execution_count": null,
   "id": "5b9b00ff-0607-4fd5-8ad2-66a8a7668530",
   "metadata": {},
   "outputs": [],
   "source": [
    "from tinygen.tool import Tool\n",
    "\n",
    "find_tool = Tool(\n",
    "    \"find\",\n",
    "    \"\"\"find PATTERN\n",
    "returns a list of paths that match given\n",
    "PATTERN. PATTERN is a valid regular expression for Python's\n",
    "re.compile.\"\"\",\n",
    "    lambda arg: input(f'find({arg}): '),\n",
    ")\n",
    "\n",
    "grep_tool = Tool(\n",
    "    \"grep\",\n",
    "    \"\"\"grep PATTERN returns a list of paths to files containing given\n",
    "PATTERN. PATTERN is a valid regular expression for Python's\n",
    "re.compile.\"\"\",\n",
    "    lambda arg: input(f'grep({arg}): '),\n",
    ")\n",
    "\n",
    "open_tool = Tool(\n",
    "    \"open\",\n",
    "    \"\"\"open PATH\n",
    "returns contents of file at PATH.\"\"\",\n",
    "    lambda arg: input(f'open({arg}): '),\n",
    ")\n",
    "\n",
    "write_tool = Tool(\n",
    "    \"write\",\n",
    "    \"\"\"write PATH CONTENT\n",
    "write CONTENT to the file at PATH. This overwrites existing content if any.\"\"\",\n",
    "    lambda arg: input(f'write({arg}): '),\n",
    ")\n",
    "\n",
    "tools = [find_tool, grep_tool, open_tool, write_tool]"
   ]
  },
  {
   "cell_type": "markdown",
   "id": "4f19f90b-43aa-4b1e-a89e-c3783b2e72da",
   "metadata": {},
   "source": [
    "# Planning\n",
    "\n",
    "- Plan + Self-Reflection: https://platform.openai.com/playground/p/jxYEE69LEHREHqf9e7I6LgGj\n"
   ]
  },
  {
   "cell_type": "code",
   "execution_count": null,
   "id": "e46fc8e9-4549-4692-937d-5ed232a58f76",
   "metadata": {},
   "outputs": [],
   "source": [
    "from tinygen.plan import plan\n",
    "\n",
    "task = 'The programming task: Add a new FastAPI endpoint for \"/api/diff_me\" that accepts githubUrl and prompt as query parameters'\n",
    "the_plan = plan(tools, task)"
   ]
  },
  {
   "cell_type": "code",
   "execution_count": null,
   "id": "6700657c-76c1-48bd-924c-ef59cc8be895",
   "metadata": {},
   "outputs": [],
   "source": [
    "print(the_plan)"
   ]
  },
  {
   "cell_type": "markdown",
   "id": "ef365c97-cb53-41a3-b7d6-0e91b1ad98d5",
   "metadata": {},
   "source": [
    "# Plan Execution\n",
    "- Execute (React): https://platform.openai.com/playground/p/BZp876JtEj3ss8SLqI2Acs85"
   ]
  },
  {
   "cell_type": "code",
   "execution_count": null,
   "id": "ecc7c52e-68b7-4a19-b242-44ffd027ba9d",
   "metadata": {},
   "outputs": [],
   "source": [
    "from tinygen.tool import describe_tools\n",
    "import openai\n",
    "\n",
    "def create_agent_msgs(tools: List[Tool], task: str, plan: str) -> List[dict]:\n",
    "    system_prompt = \"\"\"You exist in an environment where you can interact with the file system using distinct tools below:\n",
    "    \n",
    "{tool_descriptions}\n",
    "\n",
    "Given a programming task and a step-by-step sequence of actions using the tools described above, the objective is to complete the task.\n",
    "\n",
    "Each assistant response should be formatted as follows:\n",
    "\n",
    "OBSERVATION: <Observation about preceding user message in context of accomplishing the programming task>\n",
    "THOUGHT: <Thought on next step to accomplish programming task, following the step-by-step sequence of the plan.\n",
    "ACTION: <Specifies one of above tool to use with arguments to pass to tools>\n",
    "\n",
    "When the task is completed, the ACTION should be \"ACTION: DONE\"\n",
    "\n",
    "Examples:\n",
    "\n",
    "OBSERVATION: The user provided a programming task to \"Add Hello World to the bottom of the README file\", with the plan to find the file, open the file, then writing to file.\n",
    "THOUGHT: First, I should find the README file.\n",
    "ACTION: find \"README\"\n",
    "\n",
    "RESULT: \"./README.md\"\n",
    "\n",
    "OBSERVATION: There is a file named \"./README.md\" at path \"./README.md\"\n",
    "THOUGHT: Next, I should open the file I found.\n",
    "ACTION: open \"./README.md\"\n",
    "\n",
    "RESULT: \"# README\\nThis project is used as an example file\"\n",
    "\n",
    "OBSERVATION: The README.md file contains the text above.\n",
    "THOUGHT: I should append to the file using the write tool using the existing contents and \"Hello World\" string\n",
    "ACTION: write \"./README.md\" \"# README\\nThis project is used as an example file\\nHello World\"\n",
    "\n",
    "RESULT: OK\n",
    "\n",
    "OBSERVATION: The README.md file was updated.\n",
    "THOUGHT: I have updated the README.md file. The task is complete.\n",
    "ACTION: DONE\n",
    "    \"\"\".format(tool_descriptions=describe_tools(tools))\n",
    "\n",
    "    user_msg = \"\"\"The Task: \n",
    "{task}\n",
    "\n",
    "The Plan is:\n",
    "{plan}\n",
    "    \"\"\".format(task=task, plan=plan)\n",
    "\n",
    "    return [\n",
    "        { 'role': 'system', 'content': system_prompt },\n",
    "        { 'role': 'user', 'content': user_msg },\n",
    "    ]\n",
    "    "
   ]
  },
  {
   "cell_type": "code",
   "execution_count": null,
   "id": "369490c0-6102-41f7-a8a7-1e99e5aa9c59",
   "metadata": {},
   "outputs": [],
   "source": [
    "import re\n",
    "ACTION_PAT = re.compile('ACTION: (.*)$')\n",
    "\n",
    "@dataclass\n",
    "class Action:\n",
    "    name: str\n",
    "    args: [str]\n",
    "\n",
    "def extract_action(msg: dict) -> Optional[Action]:\n",
    "    match = ACTION_PAT.search(msg['content'])\n",
    "    if not match:\n",
    "        return None\n",
    "    components = match[1].split()\n",
    "    name = components[0].strip()\n",
    "    args = components[1:] if len(components) > 1 else []\n",
    "    return Action(name, list(map(str.strip, args)))\n",
    "    "
   ]
  },
  {
   "cell_type": "code",
   "execution_count": null,
   "id": "832896c3-567f-4167-9561-acb1332492dc",
   "metadata": {},
   "outputs": [],
   "source": [
    "import re\n",
    "from typing import Callable\n",
    "\n",
    "def print_message(msg: dict):\n",
    "    print('*** {role}:\\n{content}\\n'.format(role = msg['role'].upper(), content = msg['content']))\n",
    "\n",
    "def resolve_tool(tools: List[Tool], action: Action) -> Optional[Callable[[], str]]:\n",
    "    if not action:\n",
    "        return None\n",
    "    tool = next((t for t in tools if action.name == t.name), None)\n",
    "    if not tool:\n",
    "        return None\n",
    "    return lambda : tool.call(action.args)\n"
   ]
  },
  {
   "cell_type": "code",
   "execution_count": null,
   "id": "be3de8d3-174e-445d-b2ce-293a78f6aed6",
   "metadata": {},
   "outputs": [],
   "source": [
    "class Agent:\n",
    "    \n",
    "    def __init__(self, tools: List[Tool], task: str, plan: str, debug=False):\n",
    "        self.tools = tools\n",
    "        self.plan = plan\n",
    "        self.messages = create_agent_msgs(tools, task, plan)\n",
    "        self.debug = debug\n",
    "\n",
    "    def run(self):\n",
    "        \"\"\"\n",
    "        Execute agent to completion\n",
    "        \"\"\"\n",
    "        turns = 0\n",
    "\n",
    "        if self.debug:\n",
    "            for m in self.messages:\n",
    "                print_message(m)\n",
    "        \n",
    "        while turns < 10:\n",
    "            resp = openai.ChatCompletion.create(model=\"gpt-4\", temperature=0, messages=self.messages)\n",
    "            assistant_msg = resp.choices[0].message\n",
    "            self.messages.append(assistant_msg)\n",
    "\n",
    "            if self.debug:\n",
    "                print_message(assistant_msg)\n",
    "\n",
    "            action = extract_action(assistant_msg)\n",
    "            if not action:\n",
    "                self.messages.append({ \n",
    "                    'role': 'user', \n",
    "                    'content': 'Unrecognized action {action} was used. Please use one of the following:\\n{tool_description}'.format(action = action.name, tool_description=describe_tools(tools))\n",
    "                })\n",
    "            elif action.name == \"DONE\":\n",
    "                return\n",
    "            else:\n",
    "                tool = resolve_tool(tools, action)\n",
    "                result = tool()\n",
    "                self.messages.append({\n",
    "                    'role': 'user',\n",
    "                    'content': 'RESULT: {}'.format(result)\n",
    "                })\n",
    "            \n",
    "            \n",
    "            turns += 1\n",
    "\n",
    "            "
   ]
  },
  {
   "cell_type": "code",
   "execution_count": null,
   "id": "0f958e7a-d0ca-4706-aba1-303d77e53ef4",
   "metadata": {},
   "outputs": [],
   "source": [
    "agent = Agent(tools, task, the_plan, debug=True)"
   ]
  },
  {
   "cell_type": "code",
   "execution_count": null,
   "id": "c4d35a29-8909-4675-b8ed-3f934100aefa",
   "metadata": {},
   "outputs": [],
   "source": [
    "agent.run()"
   ]
  },
  {
   "cell_type": "markdown",
   "id": "ac6332e3-ec42-4e3f-bc5d-ec29f59fbf6c",
   "metadata": {},
   "source": [
    "# Github v2\n",
    "\n",
    "Support:\n",
    "- open"
   ]
  },
  {
   "cell_type": "code",
   "execution_count": 130,
   "id": "0e71938b-54c8-481b-8859-32d6afe6785a",
   "metadata": {},
   "outputs": [],
   "source": [
    "import tinygen\n",
    "\n",
    "from importlib import reload\n",
    "reload(tinygen)\n",
    "\n",
    "gh_api_key = os.getenv(\"GITHUB_API_KEY\")\n",
    "repo_spec = 'https://github.com/leoshimo/copier_python_template'\n",
    "gh = tinygen.github.GithubRepo(repo_spec, gh_api_key)"
   ]
  },
  {
   "cell_type": "code",
   "execution_count": 122,
   "id": "8e37ced6-8742-40f7-8561-68559a92045b",
   "metadata": {},
   "outputs": [
    {
     "data": {
      "text/plain": [
       "\"# README\\n\\n[Copier](https://copier.readthedocs.io/) template for a simple Python projects\\n\\n- Python project with `src` and `test` managed by `poetry`\\n- `notebooks` for Jupyter notebooks\\n- `Makefile` as task runner. See `make help`\\n\\n## Prerequisites\\n\\n- `pyenv`\\n- `poetry`\\n- `copier`\\n\\n## Project Setup\\n\\n```sh\\n$ copier copy gh:leoshimo/copier_python_template my_project\\n$ cd my_project\\n$ make setup\\n```\\n\\n## Running Tasks\\n\\nSee `make help` for list of tasks.\\n\\n## API Keys\\n\\nAdd `.env` with `SOME_API_KEY=API_KEY`. Then use `python-dotenv`:\\n\\n```python\\nimport os\\nfrom dotenv import load_dotenv\\nload_dotenv()\\nos.environ.get('SOME_API_KEY')\\n```\\n\\n\""
      ]
     },
     "execution_count": 122,
     "metadata": {},
     "output_type": "execute_result"
    }
   ],
   "source": [
    "# Open\n",
    "gh.open(\"/src/../README.md\")"
   ]
  },
  {
   "cell_type": "code",
   "execution_count": 148,
   "id": "1a8fa9ed-c1b2-4f4b-81bc-7cecbcaf1468",
   "metadata": {},
   "outputs": [
    {
     "data": {
      "text/plain": [
       "['README.md']"
      ]
     },
     "execution_count": 148,
     "metadata": {},
     "output_type": "execute_result"
    }
   ],
   "source": [
    "# Find File\n",
    "gh.find_file(\"READ\")"
   ]
  },
  {
   "cell_type": "code",
   "execution_count": 124,
   "id": "3a57933e-c01f-4563-bae0-d6a8fa6fa963",
   "metadata": {},
   "outputs": [
    {
     "data": {
      "text/plain": [
       "['README.md', 'pyproject.toml.jinja']"
      ]
     },
     "execution_count": 124,
     "metadata": {},
     "output_type": "execute_result"
    }
   ],
   "source": [
    "gh.search(\"read\")"
   ]
  },
  {
   "cell_type": "markdown",
   "id": "59669819-1491-48bd-b9df-d82a66542ced",
   "metadata": {},
   "source": [
    "# Workspace V2\n",
    "\n",
    "Place on `write` calls to store old contents.\n",
    "Reads are \"pass-through\" and cached. May be overwritten by writes.\n",
    "Backed by REPO calls."
   ]
  },
  {
   "cell_type": "code",
   "execution_count": 189,
   "id": "b925357d-e321-48d4-a12d-f9cbb800336d",
   "metadata": {},
   "outputs": [],
   "source": [
    "reload(tinygen.workspace)\n",
    "wkspc = tinygen.workspace.Workspace(gh)"
   ]
  },
  {
   "cell_type": "code",
   "execution_count": 190,
   "id": "7feec407-5770-4970-8b39-16e0ac722e0c",
   "metadata": {},
   "outputs": [
    {
     "data": {
      "text/plain": [
       "['README.md']"
      ]
     },
     "execution_count": 190,
     "metadata": {},
     "output_type": "execute_result"
    }
   ],
   "source": [
    "wkspc.find(\"READ\")"
   ]
  },
  {
   "cell_type": "code",
   "execution_count": 191,
   "id": "58c7c6b3-f479-4e57-8017-50c14aa23bd3",
   "metadata": {},
   "outputs": [
    {
     "data": {
      "text/plain": [
       "['README.md', 'pyproject.toml.jinja']"
      ]
     },
     "execution_count": 191,
     "metadata": {},
     "output_type": "execute_result"
    }
   ],
   "source": [
    "wkspc.search(\"READ\")"
   ]
  },
  {
   "cell_type": "code",
   "execution_count": 192,
   "id": "ea3ca626-82ac-4d6c-95bf-0cc9c0cd9de2",
   "metadata": {},
   "outputs": [
    {
     "data": {
      "text/plain": [
       "\"# README\\n\\n[Copier](https://copier.readthedocs.io/) template for a simple Python projects\\n\\n- Python project with `src` and `test` managed by `poetry`\\n- `notebooks` for Jupyter notebooks\\n- `Makefile` as task runner. See `make help`\\n\\n## Prerequisites\\n\\n- `pyenv`\\n- `poetry`\\n- `copier`\\n\\n## Project Setup\\n\\n```sh\\n$ copier copy gh:leoshimo/copier_python_template my_project\\n$ cd my_project\\n$ make setup\\n```\\n\\n## Running Tasks\\n\\nSee `make help` for list of tasks.\\n\\n## API Keys\\n\\nAdd `.env` with `SOME_API_KEY=API_KEY`. Then use `python-dotenv`:\\n\\n```python\\nimport os\\nfrom dotenv import load_dotenv\\nload_dotenv()\\nos.environ.get('SOME_API_KEY')\\n```\\n\\n\""
      ]
     },
     "execution_count": 192,
     "metadata": {},
     "output_type": "execute_result"
    }
   ],
   "source": [
    "wkspc.open(\"README.md\")"
   ]
  },
  {
   "cell_type": "code",
   "execution_count": 195,
   "id": "df44bd62-4634-473c-b351-c7107bba60b3",
   "metadata": {},
   "outputs": [],
   "source": [
    "wkspc.write(\"README.md\", \"Hello world!\")"
   ]
  },
  {
   "cell_type": "code",
   "execution_count": 197,
   "id": "c473de1f-d9da-4db2-9f60-d21d60b284e2",
   "metadata": {},
   "outputs": [
    {
     "name": "stdout",
     "output_type": "stream",
     "text": [
      "--- a/README.md\n",
      "+++ b/README.md\n",
      "@@ -1,37 +1 @@\n",
      "-# README\n",
      "-\n",
      "-[Copier](https://copier.readthedocs.io/) template for a simple Python projects\n",
      "-\n",
      "-- Python project with `src` and `test` managed by `poetry`\n",
      "-- `notebooks` for Jupyter notebooks\n",
      "-- `Makefile` as task runner. See `make help`\n",
      "-\n",
      "-## Prerequisites\n",
      "-\n",
      "-- `pyenv`\n",
      "-- `poetry`\n",
      "-- `copier`\n",
      "-\n",
      "-## Project Setup\n",
      "-\n",
      "-```sh\n",
      "-$ copier copy gh:leoshimo/copier_python_template my_project\n",
      "-$ cd my_project\n",
      "-$ make setup\n",
      "-```\n",
      "-\n",
      "-## Running Tasks\n",
      "-\n",
      "-See `make help` for list of tasks.\n",
      "-\n",
      "-## API Keys\n",
      "-\n",
      "-Add `.env` with `SOME_API_KEY=API_KEY`. Then use `python-dotenv`:\n",
      "-\n",
      "-```python\n",
      "-import os\n",
      "-from dotenv import load_dotenv\n",
      "-load_dotenv()\n",
      "-os.environ.get('SOME_API_KEY')\n",
      "-```\n",
      "-\n",
      "+Hello world!\n",
      "\n"
     ]
    }
   ],
   "source": [
    "print(wkspc.diff())"
   ]
  },
  {
   "cell_type": "markdown",
   "id": "031f39dd-69a3-46ba-a472-2296d74ccfd1",
   "metadata": {},
   "source": [
    "# Github Tools"
   ]
  },
  {
   "cell_type": "code",
   "execution_count": null,
   "id": "eccc81c7-c541-4e04-a5a4-668e7233edf8",
   "metadata": {},
   "outputs": [],
   "source": []
  }
 ],
 "metadata": {
  "kernelspec": {
   "display_name": "Python 3 (ipykernel)",
   "language": "python",
   "name": "python3"
  },
  "language_info": {
   "codemirror_mode": {
    "name": "ipython",
    "version": 3
   },
   "file_extension": ".py",
   "mimetype": "text/x-python",
   "name": "python",
   "nbconvert_exporter": "python",
   "pygments_lexer": "ipython3",
   "version": "3.11.3"
  }
 },
 "nbformat": 4,
 "nbformat_minor": 5
}
