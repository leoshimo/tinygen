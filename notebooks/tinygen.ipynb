{
 "cells": [
  {
   "cell_type": "code",
   "execution_count": 1,
   "id": "89d54222-17ee-4ebf-8771-e2ff3f962be6",
   "metadata": {},
   "outputs": [],
   "source": [
    "%load_ext autoreload\n",
    "%autoreload 2"
   ]
  },
  {
   "cell_type": "code",
   "execution_count": 2,
   "id": "e6e4656e-33c1-47e0-934d-db9d99a0ea77",
   "metadata": {},
   "outputs": [],
   "source": [
    "from dotenv import load_dotenv\n",
    "import os\n",
    "\n",
    "_ = load_dotenv()"
   ]
  },
  {
   "cell_type": "markdown",
   "id": "2adf76cb-60f9-447a-82f6-bf398339376c",
   "metadata": {},
   "source": [
    "# Stubs"
   ]
  },
  {
   "cell_type": "code",
   "execution_count": 4,
   "id": "5b9b00ff-0607-4fd5-8ad2-66a8a7668530",
   "metadata": {},
   "outputs": [],
   "source": [
    "from tinygen.tool import Tool\n",
    "\n",
    "find_tool = Tool(\n",
    "    \"find\",\n",
    "    \"\"\"find [STR]\n",
    "returns a list of paths that match given\n",
    "STR. STR is a string\"\"\",\n",
    "    lambda args: input(f'find({args}): '),\n",
    ")\n",
    "\n",
    "search_tool = Tool(\n",
    "    \"search\",\n",
    "    \"search [QUERY] returns a list of paths to files containing that match QUERY. QUERY is a regular string\",\n",
    "    lambda args: input(f'search({args}): '),\n",
    ")\n",
    "\n",
    "open_tool = Tool(\n",
    "    \"open\",\n",
    "    \"\"\"open [PATH]\n",
    "returns contents of file at PATH.\"\"\",\n",
    "    lambda args: input(f'open({args}): '),\n",
    ")\n",
    "\n",
    "write_tool = Tool(\n",
    "    \"write\",\n",
    "    \"\"\"write [PATH, CONTENT]\n",
    "write CONTENT to the file at PATH. This overwrites existing content if any.\"\"\",\n",
    "    lambda args: input(f'write({args}): '),\n",
    ")\n",
    "\n",
    "tools = [find_tool, search_tool, open_tool, write_tool]"
   ]
  },
  {
   "cell_type": "markdown",
   "id": "4f19f90b-43aa-4b1e-a89e-c3783b2e72da",
   "metadata": {},
   "source": [
    "# Planning\n",
    "\n",
    "- Plan + Self-Reflection: https://platform.openai.com/playground/p/jxYEE69LEHREHqf9e7I6LgGj\n"
   ]
  },
  {
   "cell_type": "code",
   "execution_count": 5,
   "id": "e46fc8e9-4549-4692-937d-5ed232a58f76",
   "metadata": {},
   "outputs": [
    {
     "name": "stdout",
     "output_type": "stream",
     "text": [
      "*** ASSISTANT:\n",
      "Expert 1: We need to find the FastAPI application file first. We can use the find tool with a pattern that matches python files. The pattern can be something like \".*\\.py$\".\n",
      "\n",
      "Expert 2: Yes, and once we find the FastAPI application file, we need to open it and find the place where we can add the new endpoint. We can use the open tool for this.\n",
      "\n",
      "Expert 3: After finding the right place in the file, we need to add the new endpoint. We can use the write tool to add the new endpoint to the file. The new endpoint will be a function that accepts githubUrl and prompt as query parameters.\n",
      "\n",
      "PLAN:\n",
      "1. Use find tool with parameters [\".*\\.py$\"] to find the FastAPI application file.\n",
      "2. Use open tool with the path of the FastAPI application file to open it.\n",
      "3. Use search tool with query \"app = FastAPI()\" to find the place where we can add the new endpoint.\n",
      "4. Use write tool with the path of the FastAPI application file and the new endpoint code as parameters to add the new endpoint to the file. The new endpoint code will be something like:\n",
      "```python\n",
      "@app.get(\"/api/diff_me\")\n",
      "def diff_me(githubUrl: str, prompt: str):\n",
      "    # function body here\n",
      "    pass\n",
      "```\n",
      "\n"
     ]
    }
   ],
   "source": [
    "from tinygen.plan import plan\n",
    "\n",
    "task = 'Add a new FastAPI endpoint for \"/api/diff_me\" that accepts githubUrl and prompt as query parameters'\n",
    "the_plan = plan(tools, task, debug=True)"
   ]
  },
  {
   "cell_type": "code",
   "execution_count": 6,
   "id": "6700657c-76c1-48bd-924c-ef59cc8be895",
   "metadata": {},
   "outputs": [
    {
     "name": "stdout",
     "output_type": "stream",
     "text": [
      "PLAN:\n",
      "1. Use find tool with parameters [\".*\\.py$\"] to find the FastAPI application file.\n",
      "2. Use open tool with the path of the FastAPI application file to open it.\n",
      "3. Use search tool with query \"app = FastAPI()\" to find the place where we can add the new endpoint.\n",
      "4. Use write tool with the path of the FastAPI application file and the new endpoint code as parameters to add the new endpoint to the file. The new endpoint code will be something like:\n",
      "```python\n",
      "@app.get(\"/api/diff_me\")\n",
      "def diff_me(githubUrl: str, prompt: str):\n",
      "    # function body here\n",
      "    pass\n",
      "```\n"
     ]
    }
   ],
   "source": [
    "print(the_plan)"
   ]
  },
  {
   "cell_type": "markdown",
   "id": "ef365c97-cb53-41a3-b7d6-0e91b1ad98d5",
   "metadata": {},
   "source": [
    "# Plan Execution\n",
    "- Execute (React): https://platform.openai.com/playground/p/BZp876JtEj3ss8SLqI2Acs85"
   ]
  },
  {
   "cell_type": "code",
   "execution_count": 31,
   "id": "0f958e7a-d0ca-4706-aba1-303d77e53ef4",
   "metadata": {},
   "outputs": [],
   "source": [
    "from tinygen.agent import CodeAgent\n",
    "\n",
    "agent = CodeAgent(tools, task, the_plan, debug=True)"
   ]
  },
  {
   "cell_type": "code",
   "execution_count": 32,
   "id": "c4d35a29-8909-4675-b8ed-3f934100aefa",
   "metadata": {},
   "outputs": [
    {
     "name": "stdout",
     "output_type": "stream",
     "text": [
      "*** SYSTEM:\n",
      "You exist in an environment where you can interact with the file system using distinct tools below:\n",
      "    \n",
      "find [PATTERN]\n",
      "returns a list of paths that match given\n",
      "PATTERN. PATTERN is a valid regular expression for Python's\n",
      "re.compile.\n",
      "\n",
      "search [QUERY] returns a list of paths to files containing that match QUERY. QUERY is a regular string\n",
      "\n",
      "open [PATH]\n",
      "returns contents of file at PATH.\n",
      "\n",
      "write [PATH, CONTENT]\n",
      "write CONTENT to the file at PATH. This overwrites existing content if any.\n",
      "\n",
      "Given a programming task and a step-by-step sequence of actions using the tools described above, the objective is to complete the task.\n",
      "\n",
      "The arguments passed to a tool should be a Python list of strings.\n",
      "\n",
      "Each assistant response should be formatted as follows:\n",
      "\n",
      "OBSERVATION: <Observation about preceding user message in context of accomplishing the programming task>\n",
      "THOUGHT: <Thought on next step to accomplish programming task, following the step-by-step sequence of the plan.\n",
      "ACTION: <Specifies one of above tool to use with arguments to pass to tools>\n",
      "\n",
      "When the task is completed, the ACTION should be \"ACTION: DONE\"\n",
      "\n",
      "Examples:\n",
      "\n",
      "OBSERVATION: The user provided a programming task to \"Add Hello World to the bottom of the README file\", with the plan to find the file, open the file, then writing to file.\n",
      "THOUGHT: First, I should find the README file.\n",
      "ACTION: find [\"README\"]\n",
      "\n",
      "RESULT: ['./README.md']\n",
      "\n",
      "OBSERVATION: There is a file named \"./README.md\" at path \"./README.md\"\n",
      "THOUGHT: Next, I should open the file I found.\n",
      "ACTION: open [\"./README.md\"]\n",
      "\n",
      "RESULT: # README\n",
      "This project is used as an example file\n",
      "\n",
      "OBSERVATION: The README.md file contains the text above.\n",
      "THOUGHT: I should append to the file using the write tool using the existing contents and \"Hello World\" string\n",
      "ACTION: write [\"./README.md\", \"# README\n",
      "This project is used as an example file\n",
      "Hello World\"]\n",
      "\n",
      "RESULT: OK\n",
      "\n",
      "OBSERVATION: The README.md file was updated.\n",
      "THOUGHT: I have updated the README.md file. The task is complete.\n",
      "ACTION: DONE\n",
      "        \n",
      "\n",
      "*** USER:\n",
      "The Task: Add a new FastAPI endpoint for \"/api/diff_me\" that accepts githubUrl and prompt as query parameters\n",
      "PLAN:\n",
      "1. Use find tool with parameters [\".*\\.py$\"] to find the FastAPI application file.\n",
      "2. Use open tool with the path of the FastAPI application file to open it.\n",
      "3. Use search tool with query \"app = FastAPI()\" to find the place where we can add the new endpoint.\n",
      "4. Use write tool with the path of the FastAPI application file and the new endpoint code as parameters to add the new endpoint to the file. The new endpoint code will be something like:\n",
      "```python\n",
      "@app.get(\"/api/diff_me\")\n",
      "def diff_me(githubUrl: str, prompt: str):\n",
      "    # function body here\n",
      "    pass\n",
      "```\n",
      "\n",
      "*** ASSISTANT:\n",
      "OBSERVATION: The user provided a programming task to \"Add a new FastAPI endpoint for \"/api/diff_me\" that accepts githubUrl and prompt as query parameters\", with the plan to find the FastAPI application file, open the file, search for the place to add the new endpoint, and then write the new endpoint to the file.\n",
      "THOUGHT: First, I should find the FastAPI application file.\n",
      "ACTION: find [\".*\\.py$\"]\n",
      "\n"
     ]
    },
    {
     "name": "stdin",
     "output_type": "stream",
     "text": [
      "find(['.*\\\\.py$']):  ['main.py']\n"
     ]
    },
    {
     "name": "stdout",
     "output_type": "stream",
     "text": [
      "*** ASSISTANT:\n",
      "OBSERVATION: There is a file named \"main.py\" which is likely the FastAPI application file.\n",
      "THOUGHT: Next, I should open the file I found.\n",
      "ACTION: open [\"main.py\"]\n",
      "\n"
     ]
    },
    {
     "name": "stdin",
     "output_type": "stream",
     "text": [
      "open(['main.py']):  from fastapi import FastAPI  app = FastAPI()   @app.get(\"/\") async def root():     return {\"message\": \"Hello World\"}\n"
     ]
    },
    {
     "name": "stdout",
     "output_type": "stream",
     "text": [
      "*** ASSISTANT:\n",
      "OBSERVATION: The main.py file contains the FastAPI application setup and at least one endpoint.\n",
      "THOUGHT: I should search for the place where we can add the new endpoint.\n",
      "ACTION: search [\"app = FastAPI()\"]\n",
      "\n"
     ]
    },
    {
     "name": "stdin",
     "output_type": "stream",
     "text": [
      "search(['app = FastAPI()']):  ['main.py']\n"
     ]
    },
    {
     "name": "stdout",
     "output_type": "stream",
     "text": [
      "*** ASSISTANT:\n",
      "OBSERVATION: The FastAPI application instance is created in the \"main.py\" file.\n",
      "THOUGHT: I should add the new endpoint to the file using the write tool.\n",
      "ACTION: write [\"main.py\", 'from fastapi import FastAPI\\n\\napp = FastAPI()\\n\\n@app.get(\"/\")\\nasync def root():\\n    return {\"message\": \"Hello World\"}\\n\\n@app.get(\"/api/diff_me\")\\ndef diff_me(githubUrl: str, prompt: str):\\n    # function body here\\n    pass\\n']\n",
      "\n"
     ]
    },
    {
     "name": "stdin",
     "output_type": "stream",
     "text": [
      "write(['main.py', 'from fastapi import FastAPI\\n\\napp = FastAPI()\\n\\n@app.get(\"/\")\\nasync def root():\\n    return {\"message\": \"Hello World\"}\\n\\n@app.get(\"/api/diff_me\")\\ndef diff_me(githubUrl: str, prompt: str):\\n    # function body here\\n    pass\\n']):  OK\n"
     ]
    },
    {
     "name": "stdout",
     "output_type": "stream",
     "text": [
      "*** ASSISTANT:\n",
      "OBSERVATION: The main.py file was updated with the new endpoint.\n",
      "THOUGHT: I have updated the main.py file with the new endpoint. The task is complete.\n",
      "ACTION: DONE\n",
      "\n"
     ]
    }
   ],
   "source": [
    "agent.run()"
   ]
  },
  {
   "cell_type": "code",
   "execution_count": 29,
   "id": "b4bf4b48-ebc1-4e3f-8810-5f628e6e0f6f",
   "metadata": {},
   "outputs": [
    {
     "data": {
      "text/plain": [
       "Action(name='DONE', args=[])"
      ]
     },
     "execution_count": 29,
     "metadata": {},
     "output_type": "execute_result"
    }
   ],
   "source": [
    "import tinygen.extract\n",
    "\n",
    "msg = agent.messages[10]\n",
    "tinygen.extract.extract_action(msg)"
   ]
  },
  {
   "cell_type": "code",
   "execution_count": 30,
   "id": "2b90433b-d77b-426e-b5ab-7b145f869c26",
   "metadata": {},
   "outputs": [
    {
     "data": {
      "text/plain": [
       "True"
      ]
     },
     "execution_count": 30,
     "metadata": {},
     "output_type": "execute_result"
    }
   ],
   "source": [
    "isinstance([], list)"
   ]
  },
  {
   "cell_type": "markdown",
   "id": "ac6332e3-ec42-4e3f-bc5d-ec29f59fbf6c",
   "metadata": {},
   "source": [
    "# Github Integration\n"
   ]
  },
  {
   "cell_type": "code",
   "execution_count": 18,
   "id": "0e71938b-54c8-481b-8859-32d6afe6785a",
   "metadata": {},
   "outputs": [],
   "source": [
    "import tinygen.github\n",
    "\n",
    "from importlib import reload\n",
    "reload(tinygen)\n",
    "\n",
    "gh_api_key = os.getenv(\"GITHUB_API_KEY\")\n",
    "repo_spec = 'https://github.com/leoshimo/copier_python_template'\n",
    "gh = tinygen.github.GithubRepo(repo_spec, gh_api_key)"
   ]
  },
  {
   "cell_type": "code",
   "execution_count": 19,
   "id": "8e37ced6-8742-40f7-8561-68559a92045b",
   "metadata": {},
   "outputs": [
    {
     "data": {
      "text/plain": [
       "\"# README\\n\\n[Copier](https://copier.readthedocs.io/) template for a simple Python projects\\n\\n- Python project with `src` and `test` managed by `poetry`\\n- `notebooks` for Jupyter notebooks\\n- `Makefile` as task runner. See `make help`\\n\\n## Prerequisites\\n\\n- `pyenv`\\n- `poetry`\\n- `copier`\\n\\n## Project Setup\\n\\n```sh\\n$ copier copy gh:leoshimo/copier_python_template my_project\\n$ cd my_project\\n$ make setup\\n```\\n\\n## Running Tasks\\n\\nSee `make help` for list of tasks.\\n\\n## API Keys\\n\\nAdd `.env` with `SOME_API_KEY=API_KEY`. Then use `python-dotenv`:\\n\\n```python\\nimport os\\nfrom dotenv import load_dotenv\\nload_dotenv()\\nos.environ.get('SOME_API_KEY')\\n```\\n\\n\""
      ]
     },
     "execution_count": 19,
     "metadata": {},
     "output_type": "execute_result"
    }
   ],
   "source": [
    "# Open\n",
    "gh.open(\"/src/../README.md\")"
   ]
  },
  {
   "cell_type": "code",
   "execution_count": 20,
   "id": "1a8fa9ed-c1b2-4f4b-81bc-7cecbcaf1468",
   "metadata": {},
   "outputs": [
    {
     "data": {
      "text/plain": [
       "['README.md']"
      ]
     },
     "execution_count": 20,
     "metadata": {},
     "output_type": "execute_result"
    }
   ],
   "source": [
    "# Find File\n",
    "gh.find_file(\"READ\")"
   ]
  },
  {
   "cell_type": "code",
   "execution_count": 21,
   "id": "3a57933e-c01f-4563-bae0-d6a8fa6fa963",
   "metadata": {},
   "outputs": [
    {
     "data": {
      "text/plain": [
       "['README.md', 'pyproject.toml.jinja']"
      ]
     },
     "execution_count": 21,
     "metadata": {},
     "output_type": "execute_result"
    }
   ],
   "source": [
    "gh.search(\"read\")"
   ]
  },
  {
   "cell_type": "markdown",
   "id": "59669819-1491-48bd-b9df-d82a66542ced",
   "metadata": {},
   "source": [
    "# Workspace"
   ]
  },
  {
   "cell_type": "code",
   "execution_count": 22,
   "id": "b925357d-e321-48d4-a12d-f9cbb800336d",
   "metadata": {},
   "outputs": [],
   "source": [
    "import tinygen.workspace\n",
    "\n",
    "wkspc = tinygen.workspace.Workspace(gh)"
   ]
  },
  {
   "cell_type": "code",
   "execution_count": 23,
   "id": "7feec407-5770-4970-8b39-16e0ac722e0c",
   "metadata": {},
   "outputs": [
    {
     "data": {
      "text/plain": [
       "['src/{{ project_name }}/app.py.jinja']"
      ]
     },
     "execution_count": 23,
     "metadata": {},
     "output_type": "execute_result"
    }
   ],
   "source": [
    "wkspc.find(\"app.py\")"
   ]
  },
  {
   "cell_type": "code",
   "execution_count": 24,
   "id": "58c7c6b3-f479-4e57-8017-50c14aa23bd3",
   "metadata": {},
   "outputs": [
    {
     "data": {
      "text/plain": [
       "['README.md', 'pyproject.toml.jinja']"
      ]
     },
     "execution_count": 24,
     "metadata": {},
     "output_type": "execute_result"
    }
   ],
   "source": [
    "wkspc.search(\"READ\")"
   ]
  },
  {
   "cell_type": "code",
   "execution_count": 25,
   "id": "ea3ca626-82ac-4d6c-95bf-0cc9c0cd9de2",
   "metadata": {},
   "outputs": [
    {
     "data": {
      "text/plain": [
       "\"# README\\n\\n[Copier](https://copier.readthedocs.io/) template for a simple Python projects\\n\\n- Python project with `src` and `test` managed by `poetry`\\n- `notebooks` for Jupyter notebooks\\n- `Makefile` as task runner. See `make help`\\n\\n## Prerequisites\\n\\n- `pyenv`\\n- `poetry`\\n- `copier`\\n\\n## Project Setup\\n\\n```sh\\n$ copier copy gh:leoshimo/copier_python_template my_project\\n$ cd my_project\\n$ make setup\\n```\\n\\n## Running Tasks\\n\\nSee `make help` for list of tasks.\\n\\n## API Keys\\n\\nAdd `.env` with `SOME_API_KEY=API_KEY`. Then use `python-dotenv`:\\n\\n```python\\nimport os\\nfrom dotenv import load_dotenv\\nload_dotenv()\\nos.environ.get('SOME_API_KEY')\\n```\\n\\n\""
      ]
     },
     "execution_count": 25,
     "metadata": {},
     "output_type": "execute_result"
    }
   ],
   "source": [
    "wkspc.open(\"README.md\")"
   ]
  },
  {
   "cell_type": "code",
   "execution_count": 26,
   "id": "df44bd62-4634-473c-b351-c7107bba60b3",
   "metadata": {},
   "outputs": [],
   "source": [
    "wkspc.write(\"README.md\", \"Hello world!\")\n",
    "wkspc.write(\"src/{{ project_name }}/app.py.jinja\", \"print('Hello world')\")"
   ]
  },
  {
   "cell_type": "code",
   "execution_count": 27,
   "id": "c473de1f-d9da-4db2-9f60-d21d60b284e2",
   "metadata": {},
   "outputs": [
    {
     "name": "stdout",
     "output_type": "stream",
     "text": [
      "--- a/README.md\n",
      "+++ b/README.md\n",
      "@@ -1,37 +1 @@\n",
      "-# README\n",
      "-\n",
      "-[Copier](https://copier.readthedocs.io/) template for a simple Python projects\n",
      "-\n",
      "-- Python project with `src` and `test` managed by `poetry`\n",
      "-- `notebooks` for Jupyter notebooks\n",
      "-- `Makefile` as task runner. See `make help`\n",
      "-\n",
      "-## Prerequisites\n",
      "-\n",
      "-- `pyenv`\n",
      "-- `poetry`\n",
      "-- `copier`\n",
      "-\n",
      "-## Project Setup\n",
      "-\n",
      "-```sh\n",
      "-$ copier copy gh:leoshimo/copier_python_template my_project\n",
      "-$ cd my_project\n",
      "-$ make setup\n",
      "-```\n",
      "-\n",
      "-## Running Tasks\n",
      "-\n",
      "-See `make help` for list of tasks.\n",
      "-\n",
      "-## API Keys\n",
      "-\n",
      "-Add `.env` with `SOME_API_KEY=API_KEY`. Then use `python-dotenv`:\n",
      "-\n",
      "-```python\n",
      "-import os\n",
      "-from dotenv import load_dotenv\n",
      "-load_dotenv()\n",
      "-os.environ.get('SOME_API_KEY')\n",
      "-```\n",
      "-\n",
      "+Hello world!\n",
      "\n",
      "--- a/src/{{ project_name }}/app.py.jinja\n",
      "+++ b/src/{{ project_name }}/app.py.jinja\n",
      "@@ -1,8 +1 @@\n",
      "-from fastapi import FastAPI\n",
      "-from {{ project_name }}.hello import hello_world\n",
      "-\n",
      "-app = FastAPI()\n",
      "-\n",
      "-@app.get(\"/\")\n",
      "-async def index():\n",
      "-    return { \"message\": hello_world() }\n",
      "+print('Hello world')\n",
      "\n"
     ]
    }
   ],
   "source": [
    "print(wkspc.diff())"
   ]
  },
  {
   "cell_type": "markdown",
   "id": "7e26a62c-6761-4066-b45f-37c5ad48e907",
   "metadata": {},
   "source": [
    "# Tool Argument Parsing"
   ]
  },
  {
   "cell_type": "code",
   "execution_count": 15,
   "id": "7d94e382-1a3c-461f-b1cc-16998af40342",
   "metadata": {},
   "outputs": [
    {
     "data": {
      "text/plain": [
       "{'role': 'assistant',\n",
       " 'content': 'OBSERVATION: The main.py file contains the FastAPI application and a root endpoint.\\nTHOUGHT: I should append to the file using the write tool with the existing contents and the new endpoint code.\\nACTION: write [\"main.py\", \\'from fastapi import FastAPI\\\\napp = FastAPI()\\\\n\\\\n@app.get(\"/\")\\\\nasync def root():\\\\n    return {\"message\": \"Hello World\"}\\\\n\\\\n@app.get(\"/api/diff_me\")\\\\nasync def diff_me(githubUrl: str, prompt: str):\\\\n    return {\"githubUrl\": githubUrl, \"prompt\": prompt}\\']'}"
      ]
     },
     "execution_count": 15,
     "metadata": {},
     "output_type": "execute_result"
    }
   ],
   "source": [
    "msg = agent.messages[8]\n",
    "msg"
   ]
  },
  {
   "cell_type": "code",
   "execution_count": 21,
   "id": "41c51647-4f3f-497c-932a-425f0e0922c5",
   "metadata": {},
   "outputs": [
    {
     "data": {
      "text/plain": [
       "['main.py',\n",
       " 'from fastapi import FastAPI\\napp = FastAPI()\\n\\n@app.get(\"/\")\\nasync def root():\\n    return {\"message\": \"Hello World\"}\\n\\n@app.get(\"/api/diff_me\")\\nasync def diff_me(githubUrl: str, prompt: str):\\n    return {\"githubUrl\": githubUrl, \"prompt\": prompt}']"
      ]
     },
     "execution_count": 21,
     "metadata": {},
     "output_type": "execute_result"
    }
   ],
   "source": [
    "import tinygen.extract\n",
    "import ast\n",
    "\n",
    "action = tinygen.extract.extract_action(msg)\n",
    "action\n",
    "lst = ast.literal_eval(action.arg)"
   ]
  },
  {
   "cell_type": "code",
   "execution_count": null,
   "id": "e442eff9-fd87-4ee6-82c7-656729763e66",
   "metadata": {},
   "outputs": [],
   "source": [
    "\n"
   ]
  },
  {
   "cell_type": "code",
   "execution_count": 73,
   "id": "4b8bfa5e-edc4-4adb-bb94-34b311fc7d75",
   "metadata": {},
   "outputs": [
    {
     "name": "stdout",
     "output_type": "stream",
     "text": [
      "\"from fastapi import FastAPI\\napp = FastAPI()\\n\\n@app.get(\\\"\n"
     ]
    }
   ],
   "source": [
    "print(str(args[1]))"
   ]
  },
  {
   "cell_type": "code",
   "execution_count": 45,
   "id": "44d5317d-c544-4caa-a144-8e620ebeeee1",
   "metadata": {},
   "outputs": [
    {
     "data": {
      "text/plain": [
       "'main.pyfrom fastapi import FastAPI\\napp = FastAPI()\\n\\n@app.get(\"/\")\\nasync def root():\\n    return {\"message\": \"Hello World\"}\\n\\n@app.get(\"/api/diff_me\")\\nasync def diff_me(githubUrl: str, prompt: str):\\n    return {\"githubUrl\": githubUrl, \"prompt\": prompt}'"
      ]
     },
     "execution_count": 45,
     "metadata": {},
     "output_type": "execute_result"
    }
   ],
   "source": [
    "import shlex\n",
    "\n",
    "\n",
    "eval(action.arg)"
   ]
  },
  {
   "cell_type": "code",
   "execution_count": 44,
   "id": "8b8c9632-a668-455d-9052-42bd84a042d1",
   "metadata": {},
   "outputs": [
    {
     "data": {
      "text/plain": [
       "'\"from fastapi import FastAPI\\\\napp = FastAPI()\\\\n\\\\n@app.get(\\\\\"'"
      ]
     },
     "execution_count": 44,
     "metadata": {},
     "output_type": "execute_result"
    }
   ],
   "source": [
    "shlex.get_token()"
   ]
  },
  {
   "cell_type": "markdown",
   "id": "031f39dd-69a3-46ba-a472-2296d74ccfd1",
   "metadata": {},
   "source": [
    "# Workspace Tools"
   ]
  },
  {
   "cell_type": "code",
   "execution_count": 16,
   "id": "125fc7ff-f8ef-4720-98df-4258b254e7d5",
   "metadata": {},
   "outputs": [
    {
     "ename": "NameError",
     "evalue": "name 'wkspc' is not defined",
     "output_type": "error",
     "traceback": [
      "\u001b[0;31m---------------------------------------------------------------------------\u001b[0m",
      "\u001b[0;31mNameError\u001b[0m                                 Traceback (most recent call last)",
      "Cell \u001b[0;32mIn[16], line 4\u001b[0m\n\u001b[1;32m      1\u001b[0m \u001b[38;5;28;01mimport\u001b[39;00m \u001b[38;5;21;01mtinygen\u001b[39;00m\u001b[38;5;21;01m.\u001b[39;00m\u001b[38;5;21;01mworkspace\u001b[39;00m\n\u001b[0;32m----> 4\u001b[0m t \u001b[38;5;241m=\u001b[39m tinygen\u001b[38;5;241m.\u001b[39mworkspace\u001b[38;5;241m.\u001b[39mtools(\u001b[43mwkspc\u001b[49m)\n\u001b[1;32m      5\u001b[0m t\n",
      "\u001b[0;31mNameError\u001b[0m: name 'wkspc' is not defined"
     ]
    }
   ],
   "source": [
    "import tinygen.workspace\n",
    "\n",
    "\n",
    "t = tinygen.workspace.tools(wkspc)\n",
    "t"
   ]
  },
  {
   "cell_type": "code",
   "execution_count": null,
   "id": "55a6e00d-7fa3-42c4-a78d-d2f0b9d355bc",
   "metadata": {},
   "outputs": [],
   "source": []
  }
 ],
 "metadata": {
  "kernelspec": {
   "display_name": "Python 3 (ipykernel)",
   "language": "python",
   "name": "python3"
  },
  "language_info": {
   "codemirror_mode": {
    "name": "ipython",
    "version": 3
   },
   "file_extension": ".py",
   "mimetype": "text/x-python",
   "name": "python",
   "nbconvert_exporter": "python",
   "pygments_lexer": "ipython3",
   "version": "3.11.3"
  }
 },
 "nbformat": 4,
 "nbformat_minor": 5
}
