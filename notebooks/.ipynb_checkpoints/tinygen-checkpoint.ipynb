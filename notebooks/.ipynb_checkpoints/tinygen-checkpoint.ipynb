{
 "cells": [
  {
   "cell_type": "code",
   "execution_count": 8,
   "id": "89d54222-17ee-4ebf-8771-e2ff3f962be6",
   "metadata": {},
   "outputs": [
    {
     "name": "stdout",
     "output_type": "stream",
     "text": [
      "The autoreload extension is already loaded. To reload it, use:\n",
      "  %reload_ext autoreload\n"
     ]
    }
   ],
   "source": [
    "%load_ext autoreload\n",
    "%autoreload 2"
   ]
  },
  {
   "cell_type": "code",
   "execution_count": 9,
   "id": "be9b0a94-904d-4f05-92b3-a7f487947c86",
   "metadata": {},
   "outputs": [],
   "source": [
    "import tinygen"
   ]
  },
  {
   "cell_type": "code",
   "execution_count": 10,
   "id": "e6e4656e-33c1-47e0-934d-db9d99a0ea77",
   "metadata": {},
   "outputs": [
    {
     "data": {
      "text/plain": [
       "True"
      ]
     },
     "execution_count": 10,
     "metadata": {},
     "output_type": "execute_result"
    }
   ],
   "source": [
    "from dotenv import load_dotenv\n",
    "import os\n",
    "\n",
    "load_dotenv()"
   ]
  },
  {
   "cell_type": "code",
   "execution_count": 11,
   "id": "794a41a7-33d3-41da-8376-0f93417c7f1a",
   "metadata": {},
   "outputs": [],
   "source": [
    "githubUrl = \"https://github.com/leoshimo/copier_python_template\"\n",
    "prompt = 'Add \"Hello world\" to the end of readme file'"
   ]
  },
  {
   "cell_type": "markdown",
   "id": "00fb43f2-731a-46c0-b2f4-e6b01432336c",
   "metadata": {},
   "source": [
    "# Github API"
   ]
  },
  {
   "cell_type": "code",
   "execution_count": 12,
   "id": "9fbbec08-e326-4a44-b205-e0000fecaf80",
   "metadata": {},
   "outputs": [],
   "source": [
    "from dataclasses import dataclass\n",
    "from typing import Optional, List\n",
    "\n",
    "\n",
    "@dataclass(frozen=True)\n",
    "class File:\n",
    "    path: str\n",
    "    content: Optional[str]\n",
    "\n",
    "    def with_content(self, content: Optional[str]):\n",
    "        return File(self.path, content)\n",
    "\n",
    "\n",
    "class FileSystem:\n",
    "    def list(self) -> List[File]:\n",
    "        \"List all files in filesystem\"\n",
    "        pass\n",
    "\n",
    "    def open(self, path: str) -> Optional[File]:\n",
    "        \"Returns the file at path, or None if file was not found\"\n",
    "        pass"
   ]
  },
  {
   "cell_type": "code",
   "execution_count": 13,
   "id": "fe0b4788-89de-496d-b60a-518385eb2646",
   "metadata": {},
   "outputs": [],
   "source": [
    "# github.py\n",
    "import requests\n",
    "from urllib.parse import urlparse\n",
    "import base64\n",
    "\n",
    "\n",
    "class GithubRepoFileSystem(FileSystem):\n",
    "    def __init__(self, files: List[File]):\n",
    "        self.files = files\n",
    "\n",
    "    def list(self) -> List[File]:\n",
    "        return self.files\n",
    "\n",
    "    def open(self, path: str) -> Optional[File]:\n",
    "        for f in self.files:\n",
    "            if f.path == path:\n",
    "                return f\n",
    "        return None\n",
    "\n",
    "\n",
    "def load_repo(repo_spec_or_url) -> GithubRepoFileSystem:\n",
    "    \"Create a GithubRepoFileSystem from given repository spec or URL\"\n",
    "    repo_spec = norm_repo_spec(repo_spec_or_url)\n",
    "    files = get_repo_content(repo_spec, \".\")\n",
    "    return GithubRepoFileSystem(files)\n",
    "\n",
    "\n",
    "def get_repo_content(repo_spec, path) -> List[File]:\n",
    "    \"Load all repo files recursively from PATH\"\n",
    "    # todo(leo): lazy fetch contents?\n",
    "    r = requests.get(\n",
    "        f\"https://api.github.com/repos/{repo_spec}/contents/{path}\",\n",
    "        headers={\n",
    "            \"authorization\": f\"Bearer {os.getenv('GITHUB_API_KEY')}\",\n",
    "            \"accept\": \"application/vnd.github+json\",\n",
    "        },\n",
    "    )\n",
    "    f = r.json()\n",
    "\n",
    "    if isinstance(f, dict) and f[\"type\"] == \"file\":\n",
    "        return [File(f[\"path\"], decode(f[\"content\"]))]\n",
    "\n",
    "    return [file for child in f for file in get_repo_content(repo_spec, child[\"path\"])]\n",
    "\n",
    "\n",
    "def norm_repo_spec(url_or_repo_spec):\n",
    "    \"Normalizes repository specified into format user/repo_name\"\n",
    "    res = urlparse(url_or_repo_spec).path.removeprefix(\"/\")\n",
    "    return res\n",
    "\n",
    "\n",
    "def decode(content):\n",
    "    bytes = content.encode(\"ascii\")\n",
    "    return base64.b64decode(bytes).decode(\"ascii\")\n",
    "\n",
    "\n",
    "repo = load_repo(githubUrl)"
   ]
  },
  {
   "cell_type": "code",
   "execution_count": 14,
   "id": "93e95ffa-f6f0-477f-aa54-703c922918ab",
   "metadata": {},
   "outputs": [
    {
     "data": {
      "text/plain": [
       "File(path='notebooks/{{ project_name }}.ipynb.jinja', content='{\\n \"cells\": [\\n  {\\n   \"cell_type\": \"code\",\\n   \"execution_count\": 1,\\n   \"id\": \"89d54222-17ee-4ebf-8771-e2ff3f962be6\",\\n   \"metadata\": {},\\n   \"outputs\": [],\\n   \"source\": [\\n    \"%load_ext autoreload\\\\n\",\\n    \"%autoreload 2\"\\n   ]\\n  },\\n  {\\n   \"cell_type\": \"code\",\\n   \"execution_count\": 2,\\n   \"id\": \"be9b0a94-904d-4f05-92b3-a7f487947c86\",\\n   \"metadata\": {},\\n   \"outputs\": [],\\n   \"source\": [\\n    \"import {{ project_name }}.hello\"\\n   ]\\n  },\\n  {\\n   \"cell_type\": \"code\",\\n   \"execution_count\": 3,\\n   \"id\": \"1e993dc4-f1c8-4976-b4e5-c5e8f05e8924\",\\n   \"metadata\": {},\\n   \"outputs\": [\\n    {\\n     \"data\": {\\n      \"text/plain\": [\\n       \"\\'Hello world\\'\"\\n      ]\\n     },\\n     \"execution_count\": 3,\\n     \"metadata\": {},\\n     \"output_type\": \"execute_result\"\\n    }\\n   ],\\n   \"source\": [\\n    \"{{ project_name }}.hello.hello_world()\"\\n   ]\\n  }\\n ],\\n \"metadata\": {\\n  \"kernelspec\": {\\n   \"display_name\": \"Python 3 (ipykernel)\",\\n   \"language\": \"python\",\\n   \"name\": \"python3\"\\n  },\\n  \"language_info\": {\\n   \"codemirror_mode\": {\\n    \"name\": \"ipython\",\\n    \"version\": 3\\n   },\\n   \"file_extension\": \".py\",\\n   \"mimetype\": \"text/x-python\",\\n   \"name\": \"python\",\\n   \"nbconvert_exporter\": \"python\",\\n   \"pygments_lexer\": \"ipython3\",\\n   \"version\": \"3.11.3\"\\n  }\\n },\\n \"nbformat\": 4,\\n \"nbformat_minor\": 5\\n}\\n')"
      ]
     },
     "execution_count": 14,
     "metadata": {},
     "output_type": "execute_result"
    }
   ],
   "source": [
    "repo.open(\"notebooks/{{ project_name }}.ipynb.jinja\")"
   ]
  },
  {
   "cell_type": "code",
   "execution_count": 15,
   "id": "3ed88881-3598-4ae3-b6c0-a9dc8adf2649",
   "metadata": {},
   "outputs": [],
   "source": [
    "# test norm_repo_spec\n",
    "assert (\n",
    "    norm_repo_spec(\"leoshimo/copier_python_template\")\n",
    "    == \"leoshimo/copier_python_template\"\n",
    ")\n",
    "assert (\n",
    "    norm_repo_spec(\"https://github.com/leoshimo/copier_python_template\")\n",
    "    == \"leoshimo/copier_python_template\"\n",
    ")\n",
    "assert (\n",
    "    norm_repo_spec(\"https://github.com/leoshimo/copier_python_template?jibberish=hi\")\n",
    "    == \"leoshimo/copier_python_template\"\n",
    ")"
   ]
  },
  {
   "cell_type": "markdown",
   "id": "9b1b8503-23b8-4133-b2a9-8934a5f25c7f",
   "metadata": {},
   "source": [
    "# Generating Unified Diff\n",
    "\n",
    "Idea: A \"Workspace\" has:\n",
    "- list of open files\n",
    "- list of \"edits\""
   ]
  },
  {
   "cell_type": "code",
   "execution_count": 16,
   "id": "49967de4-e5e5-47db-b904-c56afc9b1fc2",
   "metadata": {},
   "outputs": [],
   "source": [
    "import difflib\n",
    "\n",
    "\n",
    "def unified_diff(old: Optional[File], new: Optional[File]):\n",
    "    old_content = old.content if old and old.content else \"\"\n",
    "    new_content = new.content if new and new.content else \"\"\n",
    "    old_path = \"a/\" + old.path if old and old.content else \"/dev/null\"\n",
    "    new_path = \"b/\" + new.path if new and new.content else \"/dev/null\"\n",
    "\n",
    "    diff = difflib.unified_diff(\n",
    "        old_content.splitlines(keepends=True),\n",
    "        new_content.splitlines(keepends=True),\n",
    "        fromfile=old_path,\n",
    "        tofile=new_path,\n",
    "    )\n",
    "\n",
    "    diff_text = \"\".join(diff) + \"\\n\"\n",
    "\n",
    "    return diff_text"
   ]
  },
  {
   "cell_type": "code",
   "execution_count": 17,
   "id": "9395c2d3-dd60-4698-9501-70fdb47e3b37",
   "metadata": {},
   "outputs": [],
   "source": [
    "from typing import Dict\n",
    "\n",
    "\n",
    "class Staging:\n",
    "    def __init__(self, filesystem: FileSystem):\n",
    "        self.edits: Dict[File] = {}\n",
    "        self.filesystem = filesystem\n",
    "\n",
    "    def add(self, f: Optional[File]):\n",
    "        if f:\n",
    "            self.edits[f.path] = f\n",
    "\n",
    "    def diff(self):\n",
    "        diffs = []\n",
    "        for f in self.edits.values():\n",
    "            old = self.filesystem.open(f.path)\n",
    "            diffs.append(unified_diff(old, f))\n",
    "        return \"\\n\".join(diffs)"
   ]
  },
  {
   "cell_type": "markdown",
   "id": "c5b71026-48f6-423d-9dbd-36a87ec4c931",
   "metadata": {},
   "source": [
    "## Accumulating Changes"
   ]
  },
  {
   "cell_type": "code",
   "execution_count": 18,
   "id": "32b29167-b469-44b6-9065-883cbd135a27",
   "metadata": {},
   "outputs": [
    {
     "name": "stdout",
     "output_type": "stream",
     "text": [
      "--- a/README.md\n",
      "+++ b/README.md\n",
      "@@ -1,37 +1 @@\n",
      "-# README\n",
      "-\n",
      "-[Copier](https://copier.readthedocs.io/) template for a simple Python projects\n",
      "-\n",
      "-- Python project with `src` and `test` managed by `poetry`\n",
      "-- `notebooks` for Jupyter notebooks\n",
      "-- `Makefile` as task runner. See `make help`\n",
      "-\n",
      "-## Prerequisites\n",
      "-\n",
      "-- `pyenv`\n",
      "-- `poetry`\n",
      "-- `copier`\n",
      "-\n",
      "-## Project Setup\n",
      "-\n",
      "-```sh\n",
      "-$ copier copy gh:leoshimo/copier_python_template my_project\n",
      "-$ cd my_project\n",
      "-$ make setup\n",
      "-```\n",
      "-\n",
      "-## Running Tasks\n",
      "-\n",
      "-See `make help` for list of tasks.\n",
      "-\n",
      "-## API Keys\n",
      "-\n",
      "-Add `.env` with `SOME_API_KEY=API_KEY`. Then use `python-dotenv`:\n",
      "-\n",
      "-```python\n",
      "-import os\n",
      "-from dotenv import load_dotenv\n",
      "-load_dotenv()\n",
      "-os.environ.get('SOME_API_KEY')\n",
      "-```\n",
      "-\n",
      "+Hello world\n",
      "\n",
      "--- /dev/null\n",
      "+++ b/NEW.md\n",
      "@@ -0,0 +1 @@\n",
      "+New file\n",
      "\n",
      "--- a/copier.yaml\n",
      "+++ /dev/null\n",
      "@@ -1,3 +0,0 @@\n",
      "-project_name:\n",
      "-    type: str\n",
      "-    help: Project name (snake_case)\n",
      "\n",
      "\n"
     ]
    }
   ],
   "source": [
    "staging = Staging(repo)\n",
    "\n",
    "# Editing README.md\n",
    "staging.add(repo.open(\"README.md\").with_content(\"Hello world\"))\n",
    "\n",
    "# Add NEW.md\n",
    "staging.add(File(\"NEW.md\", \"New file\"))\n",
    "\n",
    "# Deleting copier.yaml\n",
    "staging.add(File(\"copier.yaml\", None))\n",
    "\n",
    "with open(\"../diff.patch\", \"w\") as f:\n",
    "    content = staging.diff()\n",
    "    print(content)\n",
    "    f.write(content)"
   ]
  },
  {
   "cell_type": "markdown",
   "id": "2adf76cb-60f9-447a-82f6-bf398339376c",
   "metadata": {},
   "source": [
    "# Tools"
   ]
  },
  {
   "cell_type": "code",
   "execution_count": 111,
   "id": "5b9b00ff-0607-4fd5-8ad2-66a8a7668530",
   "metadata": {},
   "outputs": [],
   "source": [
    "find_tool = Tool(\n",
    "    \"find\",\n",
    "    \"\"\"find PATTERN\n",
    "returns a list of paths that match given\n",
    "PATTERN. PATTERN is a valid regular expression for Python's\n",
    "re.compile.\"\"\",\n",
    "    lambda arg: input(f'find({arg}): '),\n",
    ")\n",
    "\n",
    "grep_tool = Tool(\n",
    "    \"grep\",\n",
    "    \"\"\"grep PATTERN returns a list of paths to files containing given\n",
    "PATTERN. PATTERN is a valid regular expression for Python's\n",
    "re.compile.\"\"\",\n",
    "    lambda arg: input(f'grep({arg}): '),\n",
    ")\n",
    "\n",
    "open_tool = Tool(\n",
    "    \"open\",\n",
    "    \"\"\"open PATH\n",
    "returns contents of file at PATH.\"\"\",\n",
    "    lambda arg: input(f'open({arg}): '),\n",
    ")\n",
    "\n",
    "write_tool = Tool(\n",
    "    \"write\",\n",
    "    \"\"\"write PATH CONTENT\n",
    "write CONTENT to the file at PATH. This overwrites existing content if any.\"\"\",\n",
    "    lambda arg: input(f'write({arg}): '),\n",
    ")\n",
    "\n",
    "tools = [find_tool, grep_tool, open_tool, write_tool]"
   ]
  },
  {
   "cell_type": "code",
   "execution_count": 107,
   "id": "9514a108-68cb-415d-a314-0d27add7b55d",
   "metadata": {},
   "outputs": [
    {
     "name": "stdout",
     "output_type": "stream",
     "text": [
      "find PATTERN\n",
      "returns a list of paths that match given\n",
      "PATTERN. PATTERN is a valid regular expression for Python's\n",
      "re.compile.\n",
      "\n",
      "grep PATTERN returns a list of paths to files containing given\n",
      "PATTERN. PATTERN is a valid regular expression for Python's\n",
      "re.compile.\n",
      "\n",
      "open PATH\n",
      "returns contents of file at PATH.\n",
      "\n",
      "write PATH CONTENT\n",
      "write CONTENT to the file at PATH. This overwrites existing content if any.\n"
     ]
    }
   ],
   "source": [
    "import tinygen.tool\n",
    "\n",
    "print(tinygen.tool.describe_tools(tools))"
   ]
  },
  {
   "cell_type": "markdown",
   "id": "4f19f90b-43aa-4b1e-a89e-c3783b2e72da",
   "metadata": {},
   "source": [
    "# Planning\n",
    "\n",
    "- Plan + Self-Reflection: https://platform.openai.com/playground/p/jxYEE69LEHREHqf9e7I6LgGj\n"
   ]
  },
  {
   "cell_type": "code",
   "execution_count": 78,
   "id": "e46fc8e9-4549-4692-937d-5ed232a58f76",
   "metadata": {},
   "outputs": [],
   "source": [
    "task = 'The programming task: Add a new FastAPI endpoint for \"/api/diff_me\" that accepts githubUrl and prompt as query parameters'\n",
    "the_plan = tinygen.plan(tools, task)"
   ]
  },
  {
   "cell_type": "code",
   "execution_count": 79,
   "id": "6700657c-76c1-48bd-924c-ef59cc8be895",
   "metadata": {},
   "outputs": [
    {
     "name": "stdout",
     "output_type": "stream",
     "text": [
      "Plan:\n",
      "1. Use `find` tool with `\\.py$` pattern to find Python files.\n",
      "2. Use `grep` tool with `FastAPI\\(\\)` pattern to find the file containing the FastAPI app instance.\n",
      "3. Use `open` tool to get the contents of the found file.\n",
      "4. Add the new endpoint to the file contents:\n",
      "```\n",
      "@app.get(\"/api/diff_me\")\n",
      "def diff_me(githubUrl: str, prompt: str):\n",
      "    # endpoint logic here\n",
      "```\n",
      "5. Use `write` tool to save the changes to the file.\n"
     ]
    }
   ],
   "source": [
    "print(the_plan)"
   ]
  },
  {
   "cell_type": "markdown",
   "id": "ef365c97-cb53-41a3-b7d6-0e91b1ad98d5",
   "metadata": {},
   "source": [
    "# Plan Execution\n",
    "- Execute (React): https://platform.openai.com/playground/p/BZp876JtEj3ss8SLqI2Acs85"
   ]
  },
  {
   "cell_type": "code",
   "execution_count": 164,
   "id": "ecc7c52e-68b7-4a19-b242-44ffd027ba9d",
   "metadata": {},
   "outputs": [],
   "source": [
    "def create_agent_msgs(tools: List[Tool], task: str, plan: str) -> List[dict]:\n",
    "    system_prompt = \"\"\"You exist in an environment where you can interact with the file system using distinct tools below:\n",
    "    \n",
    "{tool_descriptions}\n",
    "\n",
    "Given a programming task and a step-by-step sequence of actions using the tools described above, the objective is to complete the task.\n",
    "\n",
    "Each assistant response should be formatted as follows:\n",
    "\n",
    "OBSERVATION: <Observation about preceding user message in context of accomplishing the programming task>\n",
    "THOUGHT: <Thought on next step to accomplish programming task, following the step-by-step sequence of the plan.\n",
    "ACTION: <Specifies one of above tool to use with arguments to pass to tools>\n",
    "\n",
    "When the task is completed, the ACTION should be \"ACTION: DONE\"\n",
    "\n",
    "Examples:\n",
    "\n",
    "OBSERVATION: The user provided a programming task to \"Add Hello World to the bottom of the README file\", with the plan to find the file, open the file, then writing to file.\n",
    "THOUGHT: First, I should find the README file.\n",
    "ACTION: find \"README\"\n",
    "\n",
    "RESULT: \"./README.md\"\n",
    "\n",
    "OBSERVATION: There is a file named \"./README.md\" at path \"./README.md\"\n",
    "THOUGHT: Next, I should open the file I found.\n",
    "ACTION: open \"./README.md\"\n",
    "\n",
    "RESULT: \"# README\\nThis project is used as an example file\"\n",
    "\n",
    "OBSERVATION: The README.md file contains the text above.\n",
    "THOUGHT: I should append to the file using the write tool using the existing contents and \"Hello World\" string\n",
    "ACTION: write \"./README.md\" \"# README\\nThis project is used as an example file\\nHello World\"\n",
    "\n",
    "RESULT: OK\n",
    "\n",
    "OBSERVATION: The README.md file was updated.\n",
    "THOUGHT: I have updated the README.md file. The task is complete.\n",
    "ACTION: DONE\n",
    "    \"\"\".format(tool_descriptions=describe_tools(tools))\n",
    "\n",
    "    user_msg = \"\"\"The Task: \n",
    "{task}\n",
    "\n",
    "The Plan is:\n",
    "{plan}\n",
    "    \"\"\".format(task=task, plan=plan)\n",
    "\n",
    "    return [\n",
    "        { 'role': 'system', 'content': system_prompt },\n",
    "        { 'role': 'user', 'content': user_msg },\n",
    "    ]\n",
    "    "
   ]
  },
  {
   "cell_type": "code",
   "execution_count": 200,
   "id": "bd5db35b-53dd-4f6c-b3d2-2aceaba6d802",
   "metadata": {},
   "outputs": [],
   "source": [
    "import re\n",
    "\n",
    "def print_message(msg: dict):\n",
    "    print('*** {role}:\\n{content}'.format(role = msg['role'].upper(), content = msg['content']))\n",
    "\n",
    "class Agent:\n",
    "    \n",
    "    def __init__(self, tools: List[Tool], task: str, plan: str, debug=False):\n",
    "        self.tools = tools\n",
    "        self.plan = plan\n",
    "        self.messages = create_agent_msgs(tools, task, plan)\n",
    "        self.debug = debug\n",
    "\n",
    "    def run(self) -> bool:\n",
    "        \"\"\"\n",
    "        Execute agent to completion\n",
    "        \"\"\"\n",
    "        turns = 0\n",
    "\n",
    "        if self.debug:\n",
    "            for m in self.messages:\n",
    "                print_message(m)\n",
    "        \n",
    "        while turns < 10:\n",
    "            resp = openai.ChatCompletion.create(model=\"gpt-4\", temperature=0, messages=self.messages)\n",
    "            assistant_msg = resp.choices[0].message\n",
    "            self.messages.append(assistant_msg)\n",
    "\n",
    "            if self.debug:\n",
    "                print_message(assistant_msg)\n",
    "            \n",
    "            turns += 1\n",
    "\n",
    "            if turns == 1:\n",
    "                return True\n",
    "            "
   ]
  },
  {
   "cell_type": "code",
   "execution_count": 166,
   "id": "0f958e7a-d0ca-4706-aba1-303d77e53ef4",
   "metadata": {},
   "outputs": [],
   "source": [
    "agent = Agent(tools, task, the_plan, debug=True)"
   ]
  },
  {
   "cell_type": "code",
   "execution_count": 167,
   "id": "c4d35a29-8909-4675-b8ed-3f934100aefa",
   "metadata": {},
   "outputs": [
    {
     "name": "stdout",
     "output_type": "stream",
     "text": [
      "*** SYSTEM:\n",
      "You exist in an environment where you can interact with the file system using distinct tools below:\n",
      "    \n",
      "find PATTERN\n",
      "returns a list of paths that match given\n",
      "PATTERN. PATTERN is a valid regular expression for Python's\n",
      "re.compile.\n",
      "\n",
      "grep PATTERN returns a list of paths to files containing given\n",
      "PATTERN. PATTERN is a valid regular expression for Python's\n",
      "re.compile.\n",
      "\n",
      "open PATH\n",
      "returns contents of file at PATH.\n",
      "\n",
      "write PATH CONTENT\n",
      "write CONTENT to the file at PATH. This overwrites existing content if any.\n",
      "\n",
      "Given a programming task and a step-by-step sequence of actions using the tools described above, the objective is to complete the task.\n",
      "\n",
      "Each assistant response should be formatted as follows:\n",
      "\n",
      "OBSERVATION: <Observation about preceding user message in context of accomplishing the programming task>\n",
      "THOUGHT: <Thought on next step to accomplish programming task, following the step-by-step sequence of the plan.\n",
      "ACTION: <Specifies one of above tool to use with arguments to pass to tools>\n",
      "\n",
      "When the task is completed, the ACTION should be \"ACTION: DONE\"\n",
      "\n",
      "Examples:\n",
      "\n",
      "OBSERVATION: The user provided a programming task to \"Add Hello World to the bottom of the README file\", with the plan to find the file, open the file, then writing to file.\n",
      "THOUGHT: First, I should find the README file.\n",
      "ACTION: find \"README\"\n",
      "\n",
      "RESULT: \"./README.md\"\n",
      "\n",
      "OBSERVATION: There is a file named \"./README.md\" at path \"./README.md\"\n",
      "THOUGHT: Next, I should open the file I found.\n",
      "ACTION: open \"./README.md\"\n",
      "\n",
      "RESULT: \"# README\n",
      "This project is used as an example file\"\n",
      "\n",
      "OBSERVATION: The README.md file contains the text above.\n",
      "THOUGHT: I should append to the file using the write tool using the existing contents and \"Hello World\" string\n",
      "ACTION: write \"./README.md\" \"# README\n",
      "This project is used as an example file\n",
      "Hello World\"\n",
      "\n",
      "RESULT: OK\n",
      "\n",
      "OBSERVATION: The README.md file was updated.\n",
      "THOUGHT: I have updated the README.md file. The task is complete.\n",
      "ACTION: DONE\n",
      "    \n",
      "*** USER:\n",
      "The Task: \n",
      "The programming task: Add a new FastAPI endpoint for \"/api/diff_me\" that accepts githubUrl and prompt as query parameters\n",
      "\n",
      "The Plan is:\n",
      "Plan:\n",
      "1. Use `find` tool with `\\.py$` pattern to find Python files.\n",
      "2. Use `grep` tool with `FastAPI\\(\\)` pattern to find the file containing the FastAPI app instance.\n",
      "3. Use `open` tool to get the contents of the found file.\n",
      "4. Add the new endpoint to the file contents:\n",
      "```\n",
      "@app.get(\"/api/diff_me\")\n",
      "def diff_me(githubUrl: str, prompt: str):\n",
      "    # endpoint logic here\n",
      "```\n",
      "5. Use `write` tool to save the changes to the file.\n",
      "    \n",
      "*** ASSISTANT:\n",
      "OBSERVATION: The user provided a programming task to \"Add a new FastAPI endpoint for \"/api/diff_me\" that accepts githubUrl and prompt as query parameters\", with the plan to find the Python files, find the file containing the FastAPI app instance, open the file, add the new endpoint to the file contents, and save the changes to the file.\n",
      "THOUGHT: First, I should find the Python files.\n",
      "ACTION: find \"\\.py$\"\n"
     ]
    },
    {
     "data": {
      "text/plain": [
       "True"
      ]
     },
     "execution_count": 167,
     "metadata": {},
     "output_type": "execute_result"
    }
   ],
   "source": [
    "agent.run()"
   ]
  },
  {
   "cell_type": "code",
   "execution_count": 169,
   "id": "4bdc7f13-eee7-4a4a-9a34-f49b4c0ad326",
   "metadata": {},
   "outputs": [],
   "source": [
    "assistant_msg = agent.messages[2]"
   ]
  },
  {
   "cell_type": "code",
   "execution_count": 199,
   "id": "b4f87993-007a-458c-bcf8-2ca6bfbb872c",
   "metadata": {},
   "outputs": [
    {
     "data": {
      "text/plain": [
       "Action(name='find', args=['\"\\\\.py$\"'])"
      ]
     },
     "execution_count": 199,
     "metadata": {},
     "output_type": "execute_result"
    }
   ],
   "source": [
    "extract_action({ 'content': 'ACTION: find \"\\.py$\"' })"
   ]
  },
  {
   "cell_type": "code",
   "execution_count": null,
   "id": "0bd26e8a-9242-48c2-97b1-e446b12eb344",
   "metadata": {},
   "outputs": [],
   "source": []
  }
 ],
 "metadata": {
  "kernelspec": {
   "display_name": "Python 3 (ipykernel)",
   "language": "python",
   "name": "python3"
  },
  "language_info": {
   "codemirror_mode": {
    "name": "ipython",
    "version": 3
   },
   "file_extension": ".py",
   "mimetype": "text/x-python",
   "name": "python",
   "nbconvert_exporter": "python",
   "pygments_lexer": "ipython3",
   "version": "3.11.3"
  }
 },
 "nbformat": 4,
 "nbformat_minor": 5
}
