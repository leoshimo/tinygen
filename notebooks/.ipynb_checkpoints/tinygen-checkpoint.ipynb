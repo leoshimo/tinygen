{
 "cells": [
  {
   "cell_type": "code",
   "execution_count": 1,
   "id": "89d54222-17ee-4ebf-8771-e2ff3f962be6",
   "metadata": {},
   "outputs": [],
   "source": [
    "%load_ext autoreload\n",
    "%autoreload 2"
   ]
  },
  {
   "cell_type": "code",
   "execution_count": 2,
   "id": "e6e4656e-33c1-47e0-934d-db9d99a0ea77",
   "metadata": {},
   "outputs": [],
   "source": [
    "from dotenv import load_dotenv\n",
    "import os\n",
    "\n",
    "_ = load_dotenv()"
   ]
  },
  {
   "cell_type": "markdown",
   "id": "2adf76cb-60f9-447a-82f6-bf398339376c",
   "metadata": {},
   "source": [
    "# Stubs"
   ]
  },
  {
   "cell_type": "code",
   "execution_count": 3,
   "id": "5b9b00ff-0607-4fd5-8ad2-66a8a7668530",
   "metadata": {},
   "outputs": [],
   "source": [
    "from tinygen.tool import Tool\n",
    "\n",
    "find_tool = Tool(\n",
    "    \"find\",\n",
    "    \"\"\"find PATTERN\n",
    "returns a list of paths that match given\n",
    "PATTERN. PATTERN is a valid regular expression for Python's\n",
    "re.compile.\"\"\",\n",
    "    lambda arg: input(f'find({arg}): '),\n",
    ")\n",
    "\n",
    "grep_tool = Tool(\n",
    "    \"grep\",\n",
    "    \"\"\"grep PATTERN returns a list of paths to files containing given\n",
    "PATTERN. PATTERN is a valid regular expression for Python's\n",
    "re.compile.\"\"\",\n",
    "    lambda arg: input(f'grep({arg}): '),\n",
    ")\n",
    "\n",
    "open_tool = Tool(\n",
    "    \"open\",\n",
    "    \"\"\"open PATH\n",
    "returns contents of file at PATH.\"\"\",\n",
    "    lambda arg: input(f'open({arg}): '),\n",
    ")\n",
    "\n",
    "write_tool = Tool(\n",
    "    \"write\",\n",
    "    \"\"\"write PATH CONTENT\n",
    "write CONTENT to the file at PATH. This overwrites existing content if any.\"\"\",\n",
    "    lambda arg: input(f'write({arg}): '),\n",
    ")\n",
    "\n",
    "tools = [find_tool, grep_tool, open_tool, write_tool]"
   ]
  },
  {
   "cell_type": "markdown",
   "id": "4f19f90b-43aa-4b1e-a89e-c3783b2e72da",
   "metadata": {},
   "source": [
    "# Planning\n",
    "\n",
    "- Plan + Self-Reflection: https://platform.openai.com/playground/p/jxYEE69LEHREHqf9e7I6LgGj\n"
   ]
  },
  {
   "cell_type": "code",
   "execution_count": 4,
   "id": "e46fc8e9-4549-4692-937d-5ed232a58f76",
   "metadata": {},
   "outputs": [],
   "source": [
    "from tinygen.plan import plan\n",
    "\n",
    "task = 'Add a new FastAPI endpoint for \"/api/diff_me\" that accepts githubUrl and prompt as query parameters'\n",
    "the_plan = plan(tools, task)"
   ]
  },
  {
   "cell_type": "code",
   "execution_count": 5,
   "id": "6700657c-76c1-48bd-924c-ef59cc8be895",
   "metadata": {},
   "outputs": [
    {
     "name": "stdout",
     "output_type": "stream",
     "text": [
      "Plan:\n",
      "1. Use 'find' tool with the pattern 'main.py|app.py' to find the FastAPI application file.\n",
      "2. Use 'open' tool with the path returned from step 1 to get the current content of the file.\n",
      "3. Append the new endpoint code to the content obtained from step 2.\n",
      "4. Use 'write' tool with the path from step 1 and the content from step 3 to overwrite the file with the new content.\n"
     ]
    }
   ],
   "source": [
    "print(the_plan)"
   ]
  },
  {
   "cell_type": "markdown",
   "id": "ef365c97-cb53-41a3-b7d6-0e91b1ad98d5",
   "metadata": {},
   "source": [
    "# Plan Execution\n",
    "- Execute (React): https://platform.openai.com/playground/p/BZp876JtEj3ss8SLqI2Acs85"
   ]
  },
  {
   "cell_type": "code",
   "execution_count": 6,
   "id": "0f958e7a-d0ca-4706-aba1-303d77e53ef4",
   "metadata": {},
   "outputs": [],
   "source": [
    "from tinygen.agent import CodeAgent\n",
    "\n",
    "agent = CodeAgent(tools, task, the_plan, debug=True)"
   ]
  },
  {
   "cell_type": "code",
   "execution_count": null,
   "id": "c4d35a29-8909-4675-b8ed-3f934100aefa",
   "metadata": {},
   "outputs": [
    {
     "name": "stdout",
     "output_type": "stream",
     "text": [
      "*** SYSTEM:\n",
      "You exist in an environment where you can interact with the file system using distinct tools below:\n",
      "    \n",
      "find PATTERN\n",
      "returns a list of paths that match given\n",
      "PATTERN. PATTERN is a valid regular expression for Python's\n",
      "re.compile.\n",
      "\n",
      "grep PATTERN returns a list of paths to files containing given\n",
      "PATTERN. PATTERN is a valid regular expression for Python's\n",
      "re.compile.\n",
      "\n",
      "open PATH\n",
      "returns contents of file at PATH.\n",
      "\n",
      "write PATH CONTENT\n",
      "write CONTENT to the file at PATH. This overwrites existing content if any.\n",
      "\n",
      "Given a programming task and a step-by-step sequence of actions using the tools described above, the objective is to complete the task.\n",
      "\n",
      "Each assistant response should be formatted as follows:\n",
      "\n",
      "OBSERVATION: <Observation about preceding user message in context of accomplishing the programming task>\n",
      "THOUGHT: <Thought on next step to accomplish programming task, following the step-by-step sequence of the plan.\n",
      "ACTION: <Specifies one of above tool to use with arguments to pass to tools>\n",
      "\n",
      "When the task is completed, the ACTION should be \"ACTION: DONE\"\n",
      "\n",
      "Examples:\n",
      "\n",
      "OBSERVATION: The user provided a programming task to \"Add Hello World to the bottom of the README file\", with the plan to find the file, open the file, then writing to file.\n",
      "THOUGHT: First, I should find the README file.\n",
      "ACTION: find \"README\"\n",
      "\n",
      "RESULT: \"./README.md\"\n",
      "\n",
      "OBSERVATION: There is a file named \"./README.md\" at path \"./README.md\"\n",
      "THOUGHT: Next, I should open the file I found.\n",
      "ACTION: open \"./README.md\"\n",
      "\n",
      "RESULT: \"# README\n",
      "This project is used as an example file\"\n",
      "\n",
      "OBSERVATION: The README.md file contains the text above.\n",
      "THOUGHT: I should append to the file using the write tool using the existing contents and \"Hello World\" string\n",
      "ACTION: write \"./README.md\" \"# README\n",
      "This project is used as an example file\n",
      "Hello World\"\n",
      "\n",
      "RESULT: OK\n",
      "\n",
      "OBSERVATION: The README.md file was updated.\n",
      "THOUGHT: I have updated the README.md file. The task is complete.\n",
      "ACTION: DONE\n",
      "        \n",
      "\n",
      "*** USER:\n",
      "The Task: \n",
      "        The programming task: Add a new FastAPI endpoint for \"/api/diff_me\" that accepts githubUrl and prompt as query parameters\n",
      "\n",
      "        The Plan is:\n",
      "        Plan:\n",
      "1. Use 'find' tool with the pattern 'main.py|app.py' to find the FastAPI application file.\n",
      "2. Use 'open' tool with the path returned from step 1 to get the current content of the file.\n",
      "3. Append the new endpoint code to the content obtained from step 2.\n",
      "4. Use 'write' tool with the path from step 1 and the content from step 3 to overwrite the file with the new content.\n",
      "        \n",
      "\n",
      "*** ASSISTANT:\n",
      "OBSERVATION: The user provided a programming task to \"Add a new FastAPI endpoint for \"/api/diff_me\" that accepts githubUrl and prompt as query parameters\", with the plan to find the FastAPI application file, open the file, append the new endpoint code, then writing to file.\n",
      "THOUGHT: First, I should find the FastAPI application file.\n",
      "ACTION: find \"main.py|app.py\"\n",
      "\n"
     ]
    }
   ],
   "source": [
    "agent.run()"
   ]
  },
  {
   "cell_type": "markdown",
   "id": "ac6332e3-ec42-4e3f-bc5d-ec29f59fbf6c",
   "metadata": {},
   "source": [
    "# Github Integration\n"
   ]
  },
  {
   "cell_type": "code",
   "execution_count": 25,
   "id": "0e71938b-54c8-481b-8859-32d6afe6785a",
   "metadata": {},
   "outputs": [],
   "source": [
    "import tinygen.github\n",
    "\n",
    "from importlib import reload\n",
    "reload(tinygen)\n",
    "\n",
    "gh_api_key = os.getenv(\"GITHUB_API_KEY\")\n",
    "repo_spec = 'https://github.com/leoshimo/copier_python_template'\n",
    "gh = tinygen.github.GithubRepo(repo_spec, gh_api_key)"
   ]
  },
  {
   "cell_type": "code",
   "execution_count": 26,
   "id": "8e37ced6-8742-40f7-8561-68559a92045b",
   "metadata": {},
   "outputs": [
    {
     "data": {
      "text/plain": [
       "\"# README\\n\\n[Copier](https://copier.readthedocs.io/) template for a simple Python projects\\n\\n- Python project with `src` and `test` managed by `poetry`\\n- `notebooks` for Jupyter notebooks\\n- `Makefile` as task runner. See `make help`\\n\\n## Prerequisites\\n\\n- `pyenv`\\n- `poetry`\\n- `copier`\\n\\n## Project Setup\\n\\n```sh\\n$ copier copy gh:leoshimo/copier_python_template my_project\\n$ cd my_project\\n$ make setup\\n```\\n\\n## Running Tasks\\n\\nSee `make help` for list of tasks.\\n\\n## API Keys\\n\\nAdd `.env` with `SOME_API_KEY=API_KEY`. Then use `python-dotenv`:\\n\\n```python\\nimport os\\nfrom dotenv import load_dotenv\\nload_dotenv()\\nos.environ.get('SOME_API_KEY')\\n```\\n\\n\""
      ]
     },
     "execution_count": 26,
     "metadata": {},
     "output_type": "execute_result"
    }
   ],
   "source": [
    "# Open\n",
    "gh.open(\"/src/../README.md\")"
   ]
  },
  {
   "cell_type": "code",
   "execution_count": 27,
   "id": "1a8fa9ed-c1b2-4f4b-81bc-7cecbcaf1468",
   "metadata": {},
   "outputs": [
    {
     "data": {
      "text/plain": [
       "['README.md']"
      ]
     },
     "execution_count": 27,
     "metadata": {},
     "output_type": "execute_result"
    }
   ],
   "source": [
    "# Find File\n",
    "gh.find_file(\"READ\")"
   ]
  },
  {
   "cell_type": "code",
   "execution_count": 28,
   "id": "3a57933e-c01f-4563-bae0-d6a8fa6fa963",
   "metadata": {},
   "outputs": [
    {
     "data": {
      "text/plain": [
       "['README.md', 'pyproject.toml.jinja']"
      ]
     },
     "execution_count": 28,
     "metadata": {},
     "output_type": "execute_result"
    }
   ],
   "source": [
    "gh.search(\"read\")"
   ]
  },
  {
   "cell_type": "markdown",
   "id": "59669819-1491-48bd-b9df-d82a66542ced",
   "metadata": {},
   "source": [
    "# Workspace"
   ]
  },
  {
   "cell_type": "code",
   "execution_count": 29,
   "id": "b925357d-e321-48d4-a12d-f9cbb800336d",
   "metadata": {},
   "outputs": [],
   "source": [
    "import tinygen.workspace\n",
    "\n",
    "wkspc = tinygen.workspace.Workspace(gh)"
   ]
  },
  {
   "cell_type": "code",
   "execution_count": 30,
   "id": "7feec407-5770-4970-8b39-16e0ac722e0c",
   "metadata": {},
   "outputs": [
    {
     "data": {
      "text/plain": [
       "['src/{{ project_name }}/app.py.jinja']"
      ]
     },
     "execution_count": 30,
     "metadata": {},
     "output_type": "execute_result"
    }
   ],
   "source": [
    "wkspc.find(\"app.py\")"
   ]
  },
  {
   "cell_type": "code",
   "execution_count": 31,
   "id": "58c7c6b3-f479-4e57-8017-50c14aa23bd3",
   "metadata": {},
   "outputs": [
    {
     "data": {
      "text/plain": [
       "['README.md', 'pyproject.toml.jinja']"
      ]
     },
     "execution_count": 31,
     "metadata": {},
     "output_type": "execute_result"
    }
   ],
   "source": [
    "wkspc.search(\"READ\")"
   ]
  },
  {
   "cell_type": "code",
   "execution_count": 32,
   "id": "ea3ca626-82ac-4d6c-95bf-0cc9c0cd9de2",
   "metadata": {},
   "outputs": [
    {
     "data": {
      "text/plain": [
       "\"# README\\n\\n[Copier](https://copier.readthedocs.io/) template for a simple Python projects\\n\\n- Python project with `src` and `test` managed by `poetry`\\n- `notebooks` for Jupyter notebooks\\n- `Makefile` as task runner. See `make help`\\n\\n## Prerequisites\\n\\n- `pyenv`\\n- `poetry`\\n- `copier`\\n\\n## Project Setup\\n\\n```sh\\n$ copier copy gh:leoshimo/copier_python_template my_project\\n$ cd my_project\\n$ make setup\\n```\\n\\n## Running Tasks\\n\\nSee `make help` for list of tasks.\\n\\n## API Keys\\n\\nAdd `.env` with `SOME_API_KEY=API_KEY`. Then use `python-dotenv`:\\n\\n```python\\nimport os\\nfrom dotenv import load_dotenv\\nload_dotenv()\\nos.environ.get('SOME_API_KEY')\\n```\\n\\n\""
      ]
     },
     "execution_count": 32,
     "metadata": {},
     "output_type": "execute_result"
    }
   ],
   "source": [
    "wkspc.open(\"README.md\")"
   ]
  },
  {
   "cell_type": "code",
   "execution_count": 33,
   "id": "df44bd62-4634-473c-b351-c7107bba60b3",
   "metadata": {},
   "outputs": [],
   "source": [
    "wkspc.write(\"README.md\", \"Hello world!\")\n",
    "wkspc.write(\"src/{{ project_name }}/app.py.jinja\", \"print('Hello world')\")"
   ]
  },
  {
   "cell_type": "code",
   "execution_count": 34,
   "id": "c473de1f-d9da-4db2-9f60-d21d60b284e2",
   "metadata": {},
   "outputs": [
    {
     "name": "stdout",
     "output_type": "stream",
     "text": [
      "--- a/README.md\n",
      "+++ b/README.md\n",
      "@@ -1,37 +1 @@\n",
      "-# README\n",
      "-\n",
      "-[Copier](https://copier.readthedocs.io/) template for a simple Python projects\n",
      "-\n",
      "-- Python project with `src` and `test` managed by `poetry`\n",
      "-- `notebooks` for Jupyter notebooks\n",
      "-- `Makefile` as task runner. See `make help`\n",
      "-\n",
      "-## Prerequisites\n",
      "-\n",
      "-- `pyenv`\n",
      "-- `poetry`\n",
      "-- `copier`\n",
      "-\n",
      "-## Project Setup\n",
      "-\n",
      "-```sh\n",
      "-$ copier copy gh:leoshimo/copier_python_template my_project\n",
      "-$ cd my_project\n",
      "-$ make setup\n",
      "-```\n",
      "-\n",
      "-## Running Tasks\n",
      "-\n",
      "-See `make help` for list of tasks.\n",
      "-\n",
      "-## API Keys\n",
      "-\n",
      "-Add `.env` with `SOME_API_KEY=API_KEY`. Then use `python-dotenv`:\n",
      "-\n",
      "-```python\n",
      "-import os\n",
      "-from dotenv import load_dotenv\n",
      "-load_dotenv()\n",
      "-os.environ.get('SOME_API_KEY')\n",
      "-```\n",
      "-\n",
      "+Hello world!\n",
      "\n",
      "--- a/src/{{ project_name }}/app.py.jinja\n",
      "+++ b/src/{{ project_name }}/app.py.jinja\n",
      "@@ -1,8 +1 @@\n",
      "-from fastapi import FastAPI\n",
      "-from {{ project_name }}.hello import hello_world\n",
      "-\n",
      "-app = FastAPI()\n",
      "-\n",
      "-@app.get(\"/\")\n",
      "-async def index():\n",
      "-    return { \"message\": hello_world() }\n",
      "+print('Hello world')\n",
      "\n"
     ]
    }
   ],
   "source": [
    "print(wkspc.diff())"
   ]
  },
  {
   "cell_type": "markdown",
   "id": "031f39dd-69a3-46ba-a472-2296d74ccfd1",
   "metadata": {},
   "source": [
    "# Workspace Tools"
   ]
  },
  {
   "cell_type": "code",
   "execution_count": 42,
   "id": "125fc7ff-f8ef-4720-98df-4258b254e7d5",
   "metadata": {},
   "outputs": [
    {
     "data": {
      "text/plain": [
       "[]"
      ]
     },
     "execution_count": 42,
     "metadata": {},
     "output_type": "execute_result"
    }
   ],
   "source": [
    "from importlib import reload\n",
    "reload(tinygen.workspace)\n",
    "\n",
    "t = tinygen.workspace.workspace_tools(wkspc)\n",
    "t"
   ]
  },
  {
   "cell_type": "code",
   "execution_count": null,
   "id": "55a6e00d-7fa3-42c4-a78d-d2f0b9d355bc",
   "metadata": {},
   "outputs": [],
   "source": []
  }
 ],
 "metadata": {
  "kernelspec": {
   "display_name": "Python 3 (ipykernel)",
   "language": "python",
   "name": "python3"
  },
  "language_info": {
   "codemirror_mode": {
    "name": "ipython",
    "version": 3
   },
   "file_extension": ".py",
   "mimetype": "text/x-python",
   "name": "python",
   "nbconvert_exporter": "python",
   "pygments_lexer": "ipython3",
   "version": "3.11.3"
  }
 },
 "nbformat": 4,
 "nbformat_minor": 5
}
