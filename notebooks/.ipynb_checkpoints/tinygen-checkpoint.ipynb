{
 "cells": [
  {
   "cell_type": "code",
   "execution_count": 1,
   "id": "89d54222-17ee-4ebf-8771-e2ff3f962be6",
   "metadata": {},
   "outputs": [],
   "source": [
    "%load_ext autoreload\n",
    "%autoreload 2"
   ]
  },
  {
   "cell_type": "code",
   "execution_count": 8,
   "id": "be9b0a94-904d-4f05-92b3-a7f487947c86",
   "metadata": {},
   "outputs": [],
   "source": [
    "import tinygen.hello"
   ]
  },
  {
   "cell_type": "code",
   "execution_count": 13,
   "id": "1e993dc4-f1c8-4976-b4e5-c5e8f05e8924",
   "metadata": {},
   "outputs": [
    {
     "data": {
      "text/plain": [
       "'Hello world'"
      ]
     },
     "execution_count": 13,
     "metadata": {},
     "output_type": "execute_result"
    }
   ],
   "source": [
    "tinygen.hello.hello_world()"
   ]
  },
  {
   "cell_type": "code",
   "execution_count": null,
   "id": "5cb48e28-aeb2-4efc-a1f9-73d2e01c2678",
   "metadata": {},
   "outputs": [],
   "source": []
  }
 ],
 "metadata": {
  "kernelspec": {
   "display_name": "Python 3 (ipykernel)",
   "language": "python",
   "name": "python3"
  },
  "language_info": {
   "codemirror_mode": {
    "name": "ipython",
    "version": 3
   },
   "file_extension": ".py",
   "mimetype": "text/x-python",
   "name": "python",
   "nbconvert_exporter": "python",
   "pygments_lexer": "ipython3",
   "version": "3.11.3"
  }
 },
 "nbformat": 4,
 "nbformat_minor": 5
}
